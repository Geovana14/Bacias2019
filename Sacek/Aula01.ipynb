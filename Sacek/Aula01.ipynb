{
 "metadata": {
  "name": "",
  "signature": "sha256:347046a52a4726c613a5cdcfce308eaa071d25262fd66485499ff3954eefbf62"
 },
 "nbformat": 3,
 "nbformat_minor": 0,
 "worksheets": [
  {
   "cells": [
    {
     "cell_type": "markdown",
     "metadata": {},
     "source": [
      "#Aula 1\n",
      "\n",
      "Esta \u00e9 a primeira aula do curso\n",
      "$$\n",
      "\\int x dx = \\frac{x^2}{2} + C\n",
      "$$\n"
     ]
    },
    {
     "cell_type": "code",
     "collapsed": false,
     "input": [
      "a = 2.0\n",
      "b = 3\n",
      "c = \"carro\"\n",
      "x = a+c\n",
      "\n",
      "print(\"O valor de x \u00e9: \",x)"
     ],
     "language": "python",
     "metadata": {},
     "outputs": [
      {
       "ename": "TypeError",
       "evalue": "unsupported operand type(s) for +: 'float' and 'str'",
       "output_type": "pyerr",
       "traceback": [
        "\u001b[0;31m---------------------------------------------------------------------------\u001b[0m\n\u001b[0;31mTypeError\u001b[0m                                 Traceback (most recent call last)",
        "\u001b[0;32m<ipython-input-9-bd46a930af42>\u001b[0m in \u001b[0;36m<module>\u001b[0;34m()\u001b[0m\n\u001b[1;32m      2\u001b[0m \u001b[0mb\u001b[0m \u001b[0;34m=\u001b[0m \u001b[0;36m3\u001b[0m\u001b[0;34m\u001b[0m\u001b[0m\n\u001b[1;32m      3\u001b[0m \u001b[0mc\u001b[0m \u001b[0;34m=\u001b[0m \u001b[0;34m\"carro\"\u001b[0m\u001b[0;34m\u001b[0m\u001b[0m\n\u001b[0;32m----> 4\u001b[0;31m \u001b[0mx\u001b[0m \u001b[0;34m=\u001b[0m \u001b[0ma\u001b[0m\u001b[0;34m+\u001b[0m\u001b[0mc\u001b[0m\u001b[0;34m\u001b[0m\u001b[0m\n\u001b[0m\u001b[1;32m      5\u001b[0m \u001b[0;34m\u001b[0m\u001b[0m\n\u001b[1;32m      6\u001b[0m \u001b[0mprint\u001b[0m\u001b[0;34m(\u001b[0m\u001b[0;34m\"O valor de x \u00e9: \"\u001b[0m\u001b[0;34m,\u001b[0m\u001b[0mx\u001b[0m\u001b[0;34m)\u001b[0m\u001b[0;34m\u001b[0m\u001b[0m\n",
        "\u001b[0;31mTypeError\u001b[0m: unsupported operand type(s) for +: 'float' and 'str'"
       ]
      }
     ],
     "prompt_number": 9
    },
    {
     "cell_type": "code",
     "collapsed": false,
     "input": [
      "a = [1,2]\n",
      "b = [3,4]\n",
      "\n",
      "x = a+b\n",
      "\n",
      "print(x)"
     ],
     "language": "python",
     "metadata": {},
     "outputs": [
      {
       "output_type": "stream",
       "stream": "stdout",
       "text": [
        "[1, 2, 3, 4]\n"
       ]
      }
     ],
     "prompt_number": 10
    },
    {
     "cell_type": "code",
     "collapsed": false,
     "input": [
      "import numpy as np"
     ],
     "language": "python",
     "metadata": {},
     "outputs": [],
     "prompt_number": 16
    },
    {
     "cell_type": "code",
     "collapsed": false,
     "input": [
      "a = np.array([1,2,5])\n",
      "b = np.array([3,4,4])\n",
      "\n",
      "x = a+b\n",
      "y = 2*a\n",
      "\n",
      "print(x)\n",
      "print(3*a)"
     ],
     "language": "python",
     "metadata": {},
     "outputs": [
      {
       "output_type": "stream",
       "stream": "stdout",
       "text": [
        "[4 6 9]\n",
        "[ 3  6 15]\n"
       ]
      }
     ],
     "prompt_number": 21
    },
    {
     "cell_type": "code",
     "collapsed": false,
     "input": [
      "x = np.array([1,2,3,4,5,6,7,8,9,10])\n",
      "y = np.sin(x)\n",
      "print(y)"
     ],
     "language": "python",
     "metadata": {},
     "outputs": [
      {
       "output_type": "stream",
       "stream": "stdout",
       "text": [
        "[ 0.84147098  0.90929743  0.14112001 -0.7568025  -0.95892427 -0.2794155\n",
        "  0.6569866   0.98935825  0.41211849 -0.54402111]\n"
       ]
      }
     ],
     "prompt_number": 23
    },
    {
     "cell_type": "code",
     "collapsed": false,
     "input": [
      "x = np.arange(100,0,-1)\n",
      "print(x)"
     ],
     "language": "python",
     "metadata": {},
     "outputs": [
      {
       "output_type": "stream",
       "stream": "stdout",
       "text": [
        "[100  99  98  97  96  95  94  93  92  91  90  89  88  87  86  85  84  83\n",
        "  82  81  80  79  78  77  76  75  74  73  72  71  70  69  68  67  66  65\n",
        "  64  63  62  61  60  59  58  57  56  55  54  53  52  51  50  49  48  47\n",
        "  46  45  44  43  42  41  40  39  38  37  36  35  34  33  32  31  30  29\n",
        "  28  27  26  25  24  23  22  21  20  19  18  17  16  15  14  13  12  11\n",
        "  10   9   8   7   6   5   4   3   2   1]\n"
       ]
      }
     ],
     "prompt_number": 26
    },
    {
     "cell_type": "code",
     "collapsed": false,
     "input": [
      "y = np.cos(x)\n",
      "print(y)"
     ],
     "language": "python",
     "metadata": {},
     "outputs": [
      {
       "output_type": "stream",
       "stream": "stdout",
       "text": [
        "[ 1.          0.54030231 -0.41614684 -0.9899925  -0.65364362  0.28366219\n",
        "  0.96017029  0.75390225 -0.14550003 -0.91113026 -0.83907153  0.0044257\n",
        "  0.84385396  0.90744678  0.13673722 -0.75968791 -0.95765948 -0.27516334\n",
        "  0.66031671  0.98870462  0.40808206 -0.54772926 -0.99996083 -0.53283302\n",
        "  0.42417901  0.99120281  0.64691932 -0.29213881 -0.96260587 -0.74805753\n",
        "  0.15425145  0.91474236  0.83422336 -0.01327675 -0.84857027 -0.90369221\n",
        " -0.12796369  0.76541405  0.95507364  0.26664293 -0.66693806 -0.98733928\n",
        " -0.39998531  0.5551133   0.99984331  0.52532199 -0.43217794 -0.99233547\n",
        " -0.64014434  0.30059254  0.96496603  0.7421542  -0.16299078 -0.91828279\n",
        " -0.82930983  0.02212676  0.85322011  0.89986683  0.11918014 -0.77108022\n",
        " -0.95241298 -0.25810164  0.67350716  0.98589658  0.39185723 -0.56245385\n",
        " -0.99964746 -0.5177698   0.44014302  0.99339038  0.6333192  -0.30902273\n",
        " -0.96725059 -0.73619272  0.17171734  0.92175127  0.82433133 -0.03097503\n",
        " -0.85780309 -0.89597095 -0.11038724  0.77668598  0.9496777   0.24954012\n",
        " -0.6800235  -0.98437664 -0.38369844  0.56975033  0.99937328  0.51017704\n",
        " -0.44807362 -0.99436746 -0.62644445  0.3174287   0.96945937  0.73017356\n",
        " -0.18043045 -0.92514754 -0.81928825  0.03982088]\n"
       ]
      }
     ],
     "prompt_number": 25
    },
    {
     "cell_type": "code",
     "collapsed": false,
     "input": [
      "x = np.arange(0,10,.1)\n",
      "y = np.sin(x)\n"
     ],
     "language": "python",
     "metadata": {},
     "outputs": [],
     "prompt_number": 41
    },
    {
     "cell_type": "code",
     "collapsed": false,
     "input": [
      "import matplotlib.pyplot as plt"
     ],
     "language": "python",
     "metadata": {},
     "outputs": [],
     "prompt_number": 42
    },
    {
     "cell_type": "code",
     "collapsed": false,
     "input": [
      "plt.plot(x,y,\"g.-\")\n",
      "plt.ylim(-1.1,1.1)\n",
      "plt.xlabel(\"valores de $x$\")\n",
      "plt.ylabel(\"$y = \\sin(x)$\",fontsize=14)\n",
      "plt.grid(\"on\")\n",
      "plt.savefig(\"Figura_seno.png\")"
     ],
     "language": "python",
     "metadata": {},
     "outputs": [
      {
       "metadata": {},
       "output_type": "display_data",
       "png": "[encoded data removed]",
       "text": [
        "<matplotlib.figure.Figure at 0x7f75bdbb1f28>"
       ]
      }
     ],
     "prompt_number": 45
    },
    {
     "cell_type": "code",
     "collapsed": false,
     "input": [
      "t = np.arange(2,50,1)\n",
      "print(t)"
     ],
     "language": "python",
     "metadata": {},
     "outputs": [
      {
       "output_type": "stream",
       "stream": "stdout",
       "text": [
        "[ 2  3  4  5  6  7  8  9 10 11 12 13 14 15 16 17 18 19 20 21 22 23 24 25 26\n",
        " 27 28 29 30 31 32 33 34 35 36 37 38 39 40 41 42 43 44 45 46 47 48 49]\n"
       ]
      }
     ],
     "prompt_number": 54
    },
    {
     "cell_type": "code",
     "collapsed": false,
     "input": [
      "np.size(t)"
     ],
     "language": "python",
     "metadata": {},
     "outputs": [
      {
       "metadata": {},
       "output_type": "pyout",
       "prompt_number": 49,
       "text": [
        "3"
       ]
      }
     ],
     "prompt_number": 49
    },
    {
     "cell_type": "code",
     "collapsed": false,
     "input": [
      "t[-2]"
     ],
     "language": "python",
     "metadata": {},
     "outputs": [
      {
       "metadata": {},
       "output_type": "pyout",
       "prompt_number": 55,
       "text": [
        "48"
       ]
      }
     ],
     "prompt_number": 55
    },
    {
     "cell_type": "code",
     "collapsed": false,
     "input": [
      "z = np.zeros((5,5))"
     ],
     "language": "python",
     "metadata": {},
     "outputs": [],
     "prompt_number": 56
    },
    {
     "cell_type": "code",
     "collapsed": false,
     "input": [
      "print(z)"
     ],
     "language": "python",
     "metadata": {},
     "outputs": [
      {
       "output_type": "stream",
       "stream": "stdout",
       "text": [
        "[[ 0.   0.   0.   0.   0. ]\n",
        " [ 0.   0.   0.   0.   0. ]\n",
        " [ 0.   4.5  0.   0.   0. ]\n",
        " [ 0.   0.   0.   0.   0. ]\n",
        " [ 0.   0.   0.   0.   0. ]]\n"
       ]
      }
     ],
     "prompt_number": 59
    },
    {
     "cell_type": "code",
     "collapsed": false,
     "input": [
      "z[2][1]=4.5"
     ],
     "language": "python",
     "metadata": {},
     "outputs": [],
     "prompt_number": 58
    },
    {
     "cell_type": "code",
     "collapsed": false,
     "input": [
      "pri"
     ],
     "language": "python",
     "metadata": {},
     "outputs": []
    }
   ],
   "metadata": {}
  }
 ]
}