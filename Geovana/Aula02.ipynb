{
 "metadata": {
  "name": "",
  "signature": "sha256:182c138ba3e1010337843a26ff6494b616a8816db5130e8cb4e309ffd9d32061"
 },
 "nbformat": 3,
 "nbformat_minor": 0,
 "worksheets": [
  {
   "cells": [
    {
     "cell_type": "code",
     "collapsed": false,
     "input": [
      "import numpy as np\n",
      "import matplotlib.pyplot as plt #importar as bibliotecas"
     ],
     "language": "python",
     "metadata": {},
     "outputs": [],
     "prompt_number": 15
    },
    {
     "cell_type": "code",
     "collapsed": false,
     "input": [
      "%ls #para mostrar os arquivos\n"
     ],
     "language": "python",
     "metadata": {},
     "outputs": [
      {
       "output_type": "stream",
       "stream": "stdout",
       "text": [
        "Aula 1.ipynb  Aula02.ipynb  \u001b[0m\u001b[01;35mFigura_seno.png\u001b[0m  densidade.txt\r\n"
       ]
      }
     ],
     "prompt_number": 2
    },
    {
     "cell_type": "code",
     "collapsed": false,
     "input": [
      "#%cat densidade.txt #para mostrar um arquivo em espec\u00edfico\n",
      "r,p,d = np.loadtxt(\"densidade.txt\",skiprows=2,unpack=True) #arquivo deve possuir o mesmo numero de linhas e colunas para carregar o arquivo\n",
      "#skiprows ignorar as duas primeiras linhas porque elas nao tem numeros\n",
      "#unpack-\n",
      "#r p-profundidade d-densidade, tr\u00eas variaveis porque sao 3 colunas"
     ],
     "language": "python",
     "metadata": {},
     "outputs": [],
     "prompt_number": 13
    },
    {
     "cell_type": "code",
     "collapsed": false,
     "input": [
      "plt.plot(d,p) #variaveis para ir no grafico (x,y)\n",
      "plt.xlabel(\"densidade (kg/m$^3$)\") #nome do eixo x\n",
      "plt.ylabel(\"profundidade (km)\") #nome do eixo y\n",
      "plt.ylim(3000,0) #PARA INVERTER O EIXO Y"
     ],
     "language": "python",
     "metadata": {},
     "outputs": [
      {
       "metadata": {},
       "output_type": "pyout",
       "prompt_number": 18,
       "text": [
        "(3000, 0)"
       ]
      },
      {
       "metadata": {},
       "output_type": "display_data",
       "png": "[encoded data removed]",
       "text": [
        "<matplotlib.figure.Figure at 0x7fa7381beb70>"
       ]
      }
     ],
     "prompt_number": 18
    },
    {
     "cell_type": "raw",
     "metadata": {},
     "source": []
    },
    {
     "cell_type": "code",
     "collapsed": false,
     "input": [
      "rho = 4000.0 #densidade [kg/m3]\n",
      "g = 10.0 #m/s2 aceleracao da gravidade\n",
      "alpha = 3.0E-5 #coeficiente de expansao volumetrica 1/K\n",
      "DeltaT =2000.0 #contraste de temperatura [K]\n",
      "b = 700000.0 #espessura do manto [m]\n",
      "visc = 1.0E21 #viscosidade [Pa.s]\n",
      "kappa = 1.0E-6 #difusividade t\u00e9rmica [m2/s]\n",
      "H = 9.0E-12 #producao de calor radiogenico por unidade de massa [W/kg]\n",
      "k = 4.0 #condutividade termica [W/m/K]\n",
      "\n",
      "Ra1 = (rho*g*alpha*DeltaT*b**3)/(visc*kappa)  #n\u00famero de Rayleigh por contraste de T\n",
      "Ra2 = (alpha*rho**2*g*H*b**5)/(k*visc*kappa) #numero de rayleigh por produ\u00e7\u00e3o de calor radiogenico\n",
      "print (Ra1)\n",
      "print (Ra2)"
     ],
     "language": "python",
     "metadata": {},
     "outputs": [
      {
       "output_type": "stream",
       "stream": "stdout",
       "text": [
        "823200.0\n",
        "1815156.0000000002\n"
       ]
      }
     ],
     "prompt_number": 19
    },
    {
     "cell_type": "code",
     "collapsed": false,
     "input": [],
     "language": "python",
     "metadata": {},
     "outputs": []
    }
   ],
   "metadata": {}
  }
 ]
}