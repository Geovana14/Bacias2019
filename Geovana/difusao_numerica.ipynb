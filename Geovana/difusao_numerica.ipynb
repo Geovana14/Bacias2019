{
 "metadata": {
  "name": "",
  "signature": "sha256:e6a84504d3e7a74705b01d035f61ca5c9b9ae9b3bc4b2a84e1b13e945c094491"
 },
 "nbformat": 3,
 "nbformat_minor": 0,
 "worksheets": [
  {
   "cells": [
    {
     "cell_type": "code",
     "collapsed": false,
     "input": [
      "import numpy as np\n",
      "import matplotlib.pyplot as plt"
     ],
     "language": "python",
     "metadata": {},
     "outputs": [],
     "prompt_number": 2
    },
    {
     "cell_type": "code",
     "collapsed": false,
     "input": [
      "#o problema proposto \u00e9 elaborar um grafico da varia\u00e7ao das geotermas ao longo do tempo\n",
      "t = 0\n",
      "kappa = 1.0E-6 #m2/s difusividade termica\n",
      "k = 2.0 #W/m/K condutividade termica\n",
      "\n",
      "L = 100.0E3 #m - tamanho do problema profundidade \n",
      "dx = 1000.0 #m - espa\u00e7amento entre os pontos\n",
      "\n",
      "T0 = 0.0 #graus C (temperatura na superficie)\n",
      "T1 = 1300.0 #graus C (temperatura inicial do manto)\n",
      "\n",
      "z = np.arange (0,L,dx)\n",
      "T = z*0+T1 #vetor com o mesmo tamanho de z mas com valores constantes iguais a T1 se os vetores nao tiverem a mesma dimensao nao \u00e9 possivel plotar\n",
      "T[0]=T0 #podemos mudar o valor de algum ponto no vetor dessa maneira\n",
      "\n",
      "plt.plot(T,z/1000,\"k\")\n",
      "plt.ylim(L/1000,-2) #-2 pro zero nao ficar grudado\n",
      "\n",
      "tmax = 40.0E6 #anos totais de simula\u00e7\u00e3o\n",
      "dt = 1000.0 #passo de tempo entre intera\u00e7\u00f5es temporais\n",
      "dt_seg = dt*365.*24.*60.*60. #passo de tempo em segundos por conta do sistema internacional\n",
      "\n",
      "q_acumulado = [] #esses sao os vetores vazios para guardarem os valores de fluxo de calor calculados e jogar no grafico\n",
      "t_acumulado = []\n",
      "\n",
      "t_print=5.0E6 \n",
      "\n",
      "while t<tmax: #faz parte da linguagem padrao do phyton\n",
      "    #Tfuturo = T[1:-1]+kappa*dt_seg*(T[2:]-2*T[1:-1]+T[:-2])/dx**2\n",
      "    #T[1:-1]=Tfuturo\n",
      "    \n",
      "    T[1:-1]=T[1:-1]+kappa*dt_seg*(T[2:]-2*T[1:-1]+T[:-2])/dx**2\n",
      "    \n",
      "    if t>t_print:\n",
      "        t_print=t_print+5.0E6 # no proximo passo o print sera o t_print+5 Ma\n",
      "        plt.plot(T,z/1000,\"b\")\n",
      "    q = k*(T[1]-T[0])/dx\n",
      "        \n",
      "    q_acumulado = np.append(q_acumulado,q)\n",
      "    T_acumulado = np.append(t_acumulado,t)\n",
      "    t=t+dt #\n",
      "    \n",
      "plt.plot(T,z/1000,\"r\")\n",
      "plt.ylabel(\"Profundidade (km)\")\n",
      "plt.xlabel(\"Temperatura (C)\")\n",
      "#conforme o tempo passa, a variacao de T \u00e9 cada vez menor. Os pontos iniciais e finais nao mudam pq sao as condicoes de contorno. Inicialmente\n",
      "# a litosfera oceanica espessa rapidamente e com o tempo a conveccao mantem a temperatura da base em aproximadamente 1300 graus celcius"
     ],
     "language": "python",
     "metadata": {},
     "outputs": [
      {
       "metadata": {},
       "output_type": "pyout",
       "prompt_number": 28,
       "text": [
        "<matplotlib.text.Text at 0x7f7e4bafb860>"
       ]
      },
      {
       "metadata": {},
       "output_type": "display_data",
       "png": "[encoded data removed]",
       "text": [
        "<matplotlib.figure.Figure at 0x7f7e4bb66710>"
       ]
      }
     ],
     "prompt_number": 28
    },
    {
     "cell_type": "code",
     "collapsed": false,
     "input": [
      "x = np.arange(10,15,1)\n",
      "y = x*0+2\n",
      "y[0]=0\n",
      "print(x)\n",
      "print(y)\n",
      "\n"
     ],
     "language": "python",
     "metadata": {},
     "outputs": [
      {
       "output_type": "stream",
       "stream": "stdout",
       "text": [
        "[10 11 12 13 14]\n",
        "[0 2 2 2 2]\n"
       ]
      }
     ],
     "prompt_number": 10
    },
    {
     "cell_type": "code",
     "collapsed": false,
     "input": [
      "print(x[-1]) #ultimo ponto"
     ],
     "language": "python",
     "metadata": {},
     "outputs": [
      {
       "output_type": "stream",
       "stream": "stdout",
       "text": [
        "14\n"
       ]
      }
     ],
     "prompt_number": 11
    },
    {
     "cell_type": "code",
     "collapsed": false,
     "input": [
      "print(x[1:-1]) #ele considera o primeiro mas nao considera o ultimo, sistema aberto. Elementos centrais do vetor\n",
      "print(x[0:-2]) #"
     ],
     "language": "python",
     "metadata": {},
     "outputs": [
      {
       "output_type": "stream",
       "stream": "stdout",
       "text": [
        "[11 12 13]\n",
        "[10 11 12]\n"
       ]
      }
     ],
     "prompt_number": 12
    },
    {
     "cell_type": "code",
     "collapsed": false,
     "input": [
      "print(x[2:]) #assim ele entende que \u00e9 at\u00e9 o final"
     ],
     "language": "python",
     "metadata": {},
     "outputs": [
      {
       "output_type": "stream",
       "stream": "stdout",
       "text": [
        "[12 13 14]\n"
       ]
      }
     ],
     "prompt_number": 13
    },
    {
     "cell_type": "code",
     "collapsed": false,
     "input": [
      "x [1:-1] #elementos centrais ui\n",
      "x [:-2] #vizinhos da esquerda ui-1\n",
      "x [2:] #vizinhos da direita ui+1\n"
     ],
     "language": "python",
     "metadata": {},
     "outputs": [
      {
       "metadata": {},
       "output_type": "pyout",
       "prompt_number": 27,
       "text": [
        "array([12, 13, 14])"
       ]
      }
     ],
     "prompt_number": 27
    },
    {
     "cell_type": "code",
     "collapsed": false,
     "input": [
      "plt.plot(t_acumulado/1.0E6,q_acumulado)\n",
      "plt.xlabel(\"Tempo em Ma\")\n",
      "plt.ylabel(\"Fluxo t\u00e9rmico (w/m$^2$\")"
     ],
     "language": "python",
     "metadata": {},
     "outputs": [
      {
       "ename": "TypeError",
       "evalue": "unsupported operand type(s) for /: 'list' and 'float'",
       "output_type": "pyerr",
       "traceback": [
        "\u001b[0;31m---------------------------------------------------------------------------\u001b[0m\n\u001b[0;31mTypeError\u001b[0m                                 Traceback (most recent call last)",
        "\u001b[0;32m<ipython-input-29-2ecadef34f1e>\u001b[0m in \u001b[0;36m<module>\u001b[0;34m()\u001b[0m\n\u001b[0;32m----> 1\u001b[0;31m \u001b[0mplt\u001b[0m\u001b[0;34m.\u001b[0m\u001b[0mplot\u001b[0m\u001b[0;34m(\u001b[0m\u001b[0mt_acumulado\u001b[0m\u001b[0;34m/\u001b[0m\u001b[0;36m1.0E6\u001b[0m\u001b[0;34m,\u001b[0m\u001b[0mq_acumulado\u001b[0m\u001b[0;34m)\u001b[0m\u001b[0;34m\u001b[0m\u001b[0m\n\u001b[0m\u001b[1;32m      2\u001b[0m \u001b[0mplt\u001b[0m\u001b[0;34m.\u001b[0m\u001b[0mxlabel\u001b[0m\u001b[0;34m(\u001b[0m\u001b[0;34m\"Tempo em Ma\"\u001b[0m\u001b[0;34m)\u001b[0m\u001b[0;34m\u001b[0m\u001b[0m\n\u001b[1;32m      3\u001b[0m \u001b[0mplt\u001b[0m\u001b[0;34m.\u001b[0m\u001b[0mylabel\u001b[0m\u001b[0;34m(\u001b[0m\u001b[0;34m\"Fluxo t\u00e9rmico (w/m$^2$\"\u001b[0m\u001b[0;34m)\u001b[0m\u001b[0;34m\u001b[0m\u001b[0m\n",
        "\u001b[0;31mTypeError\u001b[0m: unsupported operand type(s) for /: 'list' and 'float'"
       ]
      }
     ],
     "prompt_number": 29
    },
    {
     "cell_type": "code",
     "collapsed": false,
     "input": [],
     "language": "python",
     "metadata": {},
     "outputs": []
    }
   ],
   "metadata": {}
  }
 ]
}