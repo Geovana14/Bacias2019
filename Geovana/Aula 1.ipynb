{
 "metadata": {
  "name": "",
  "signature": "sha256:e7826829e14ccd2f46dd4de8fe4ea019c03ba5f47739fc9b63ab254311ad6dbd"
 },
 "nbformat": 3,
 "nbformat_minor": 0,
 "worksheets": [
  {
   "cells": [
    {
     "cell_type": "markdown",
     "metadata": {},
     "source": [
      "#Esta \u00e9 a primeira aula do curso\n",
      "$$\n",
      "\\int x dx = 2x/3\n",
      "$$"
     ]
    },
    {
     "cell_type": "code",
     "collapsed": false,
     "input": [
      "a = [1,2]\n",
      "b= [3,4]\n",
      "x = a + b\n",
      "print (x)"
     ],
     "language": "python",
     "metadata": {},
     "outputs": [
      {
       "output_type": "stream",
       "stream": "stdout",
       "text": [
        "[1, 2, 3, 4]\n"
       ]
      }
     ],
     "prompt_number": 4
    },
    {
     "cell_type": "code",
     "collapsed": false,
     "input": [
      "import numpy as np"
     ],
     "language": "python",
     "metadata": {},
     "outputs": [],
     "prompt_number": 6
    },
    {
     "cell_type": "code",
     "collapsed": false,
     "input": [
      "r = 2"
     ],
     "language": "python",
     "metadata": {},
     "outputs": [],
     "prompt_number": 7
    },
    {
     "cell_type": "code",
     "collapsed": false,
     "input": [
      "a = np.array ([1,2,5])\n",
      "b = np.array ([3,4,4])\n",
      "x = a+b\n",
      "y = 2*a\n",
      "print (x)\n",
      "print (y)"
     ],
     "language": "python",
     "metadata": {},
     "outputs": [
      {
       "output_type": "stream",
       "stream": "stdout",
       "text": [
        "[4 6 9]\n",
        "[ 2  4 10]\n"
       ]
      }
     ],
     "prompt_number": 12
    },
    {
     "cell_type": "code",
     "collapsed": false,
     "input": [
      "x = np.array ([1,2,3,4,5,6,7,8,9,10])\n",
      "y=np.sin(x)\n",
      "print (y)\n"
     ],
     "language": "python",
     "metadata": {},
     "outputs": [
      {
       "output_type": "stream",
       "stream": "stdout",
       "text": [
        "[ 0.84147098  0.90929743  0.14112001 -0.7568025  -0.95892427 -0.2794155\n",
        "  0.6569866   0.98935825  0.41211849 -0.54402111]\n"
       ]
      }
     ],
     "prompt_number": 13
    },
    {
     "cell_type": "code",
     "collapsed": false,
     "input": [
      "x = np.arange(0,10,0.1)\n",
      "y = np.sin(x)\n",
      "print (x)\n",
      "print (y)"
     ],
     "language": "python",
     "metadata": {},
     "outputs": [
      {
       "output_type": "stream",
       "stream": "stdout",
       "text": [
        "[ 0.   0.1  0.2  0.3  0.4  0.5  0.6  0.7  0.8  0.9  1.   1.1  1.2  1.3  1.4\n",
        "  1.5  1.6  1.7  1.8  1.9  2.   2.1  2.2  2.3  2.4  2.5  2.6  2.7  2.8  2.9\n",
        "  3.   3.1  3.2  3.3  3.4  3.5  3.6  3.7  3.8  3.9  4.   4.1  4.2  4.3  4.4\n",
        "  4.5  4.6  4.7  4.8  4.9  5.   5.1  5.2  5.3  5.4  5.5  5.6  5.7  5.8  5.9\n",
        "  6.   6.1  6.2  6.3  6.4  6.5  6.6  6.7  6.8  6.9  7.   7.1  7.2  7.3  7.4\n",
        "  7.5  7.6  7.7  7.8  7.9  8.   8.1  8.2  8.3  8.4  8.5  8.6  8.7  8.8  8.9\n",
        "  9.   9.1  9.2  9.3  9.4  9.5  9.6  9.7  9.8  9.9]\n",
        "[ 0.          0.09983342  0.19866933  0.29552021  0.38941834  0.47942554\n",
        "  0.56464247  0.64421769  0.71735609  0.78332691  0.84147098  0.89120736\n",
        "  0.93203909  0.96355819  0.98544973  0.99749499  0.9995736   0.99166481\n",
        "  0.97384763  0.94630009  0.90929743  0.86320937  0.8084964   0.74570521\n",
        "  0.67546318  0.59847214  0.51550137  0.42737988  0.33498815  0.23924933\n",
        "  0.14112001  0.04158066 -0.05837414 -0.15774569 -0.2555411  -0.35078323\n",
        " -0.44252044 -0.52983614 -0.61185789 -0.68776616 -0.7568025  -0.81827711\n",
        " -0.87157577 -0.91616594 -0.95160207 -0.97753012 -0.993691   -0.99992326\n",
        " -0.99616461 -0.98245261 -0.95892427 -0.92581468 -0.88345466 -0.83226744\n",
        " -0.77276449 -0.70554033 -0.63126664 -0.55068554 -0.46460218 -0.37387666\n",
        " -0.2794155  -0.1821625  -0.0830894   0.0168139   0.1165492   0.21511999\n",
        "  0.31154136  0.40484992  0.49411335  0.57843976  0.6569866   0.72896904\n",
        "  0.79366786  0.85043662  0.8987081   0.93799998  0.96791967  0.98816823\n",
        "  0.99854335  0.99894134  0.98935825  0.96988981  0.94073056  0.90217183\n",
        "  0.85459891  0.79848711  0.7343971   0.66296923  0.58491719  0.50102086\n",
        "  0.41211849  0.31909836  0.22288991  0.12445442  0.02477543 -0.07515112\n",
        " -0.17432678 -0.27176063 -0.36647913 -0.45753589]\n"
       ]
      }
     ],
     "prompt_number": 23
    },
    {
     "cell_type": "code",
     "collapsed": false,
     "input": [
      "import matplotlib.pyplot as plt"
     ],
     "language": "python",
     "metadata": {},
     "outputs": [],
     "prompt_number": 17
    },
    {
     "cell_type": "code",
     "collapsed": false,
     "input": [
      "plt.plot(x,y,\"g\")\n",
      "plt.ylim(-1.1,1.1)\n",
      "plt.xlabel(\"valores de $x$\")\n",
      "plt.ylabel(\"$y= \\sin(x)$\",fontsize=14)\n",
      "plt.grid(\"on\")\n",
      "plt.savefig(\"Figura_seno.png\")"
     ],
     "language": "python",
     "metadata": {},
     "outputs": [
      {
       "metadata": {},
       "output_type": "display_data",
       "png": "[encoded data removed]",
       "text": [
        "<matplotlib.figure.Figure at 0x7f381ce23dd8>"
       ]
      }
     ],
     "prompt_number": 24
    },
    {
     "cell_type": "code",
     "collapsed": false,
     "input": [
      "t = np.arange(2,5,1)\n",
      "print (t)"
     ],
     "language": "python",
     "metadata": {},
     "outputs": [
      {
       "output_type": "stream",
       "stream": "stdout",
       "text": [
        "[2 3 4]\n"
       ]
      }
     ],
     "prompt_number": 25
    },
    {
     "cell_type": "code",
     "collapsed": false,
     "input": [
      "np.size (t)"
     ],
     "language": "python",
     "metadata": {},
     "outputs": [
      {
       "metadata": {},
       "output_type": "pyout",
       "prompt_number": 26,
       "text": [
        "3"
       ]
      }
     ],
     "prompt_number": 26
    },
    {
     "cell_type": "code",
     "collapsed": false,
     "input": [
      "t[2]"
     ],
     "language": "python",
     "metadata": {},
     "outputs": [
      {
       "metadata": {},
       "output_type": "pyout",
       "prompt_number": 28,
       "text": [
        "4"
       ]
      }
     ],
     "prompt_number": 28
    },
    {
     "cell_type": "code",
     "collapsed": false,
     "input": [
      "t[-1]"
     ],
     "language": "python",
     "metadata": {},
     "outputs": [
      {
       "metadata": {},
       "output_type": "pyout",
       "prompt_number": 29,
       "text": [
        "4"
       ]
      }
     ],
     "prompt_number": 29
    },
    {
     "cell_type": "code",
     "collapsed": false,
     "input": [],
     "language": "python",
     "metadata": {},
     "outputs": []
    }
   ],
   "metadata": {}
  }
 ]
}