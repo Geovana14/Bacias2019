{
 "metadata": {
  "name": "",
  "signature": "sha256:6b52dffe2a89a4cab2f7aee40659226e83dd2a4da8f684bc36cc7def1aec1e43"
 },
 "nbformat": 3,
 "nbformat_minor": 0,
 "worksheets": [
  {
   "cells": [
    {
     "cell_type": "code",
     "collapsed": false,
     "input": [
      "import numpy as np\n",
      "import matplotlib.pyplot as plt"
     ],
     "language": "python",
     "metadata": {},
     "outputs": [],
     "prompt_number": 1
    },
    {
     "cell_type": "code",
     "collapsed": false,
     "input": [
      "L = 200.0E3 #m\n",
      "dx = 1000.0 #m\n",
      "x = np.arange(0, L,dx)"
     ],
     "language": "python",
     "metadata": {},
     "outputs": [],
     "prompt_number": 5
    },
    {
     "cell_type": "code",
     "collapsed": false,
     "input": [
      "print(x)"
     ],
     "language": "python",
     "metadata": {},
     "outputs": [
      {
       "output_type": "stream",
       "stream": "stdout",
       "text": [
        "[      0.    1000.    2000.    3000.    4000.    5000.    6000.    7000.\n",
        "    8000.    9000.   10000.   11000.   12000.   13000.   14000.   15000.\n",
        "   16000.   17000.   18000.   19000.   20000.   21000.   22000.   23000.\n",
        "   24000.   25000.   26000.   27000.   28000.   29000.   30000.   31000.\n",
        "   32000.   33000.   34000.   35000.   36000.   37000.   38000.   39000.\n",
        "   40000.   41000.   42000.   43000.   44000.   45000.   46000.   47000.\n",
        "   48000.   49000.   50000.   51000.   52000.   53000.   54000.   55000.\n",
        "   56000.   57000.   58000.   59000.   60000.   61000.   62000.   63000.\n",
        "   64000.   65000.   66000.   67000.   68000.   69000.   70000.   71000.\n",
        "   72000.   73000.   74000.   75000.   76000.   77000.   78000.   79000.\n",
        "   80000.   81000.   82000.   83000.   84000.   85000.   86000.   87000.\n",
        "   88000.   89000.   90000.   91000.   92000.   93000.   94000.   95000.\n",
        "   96000.   97000.   98000.   99000.  100000.  101000.  102000.  103000.\n",
        "  104000.  105000.  106000.  107000.  108000.  109000.  110000.  111000.\n",
        "  112000.  113000.  114000.  115000.  116000.  117000.  118000.  119000.\n",
        "  120000.  121000.  122000.  123000.  124000.  125000.  126000.  127000.\n",
        "  128000.  129000.  130000.  131000.  132000.  133000.  134000.  135000.\n",
        "  136000.  137000.  138000.  139000.  140000.  141000.  142000.  143000.\n",
        "  144000.  145000.  146000.  147000.  148000.  149000.  150000.  151000.\n",
        "  152000.  153000.  154000.  155000.  156000.  157000.  158000.  159000.\n",
        "  160000.  161000.  162000.  163000.  164000.  165000.  166000.  167000.\n",
        "  168000.  169000.  170000.  171000.  172000.  173000.  174000.  175000.\n",
        "  176000.  177000.  178000.  179000.  180000.  181000.  182000.  183000.\n",
        "  184000.  185000.  186000.  187000.  188000.  189000.  190000.  191000.\n",
        "  192000.  193000.  194000.  195000.  196000.  197000.  198000.  199000.]\n"
       ]
      }
     ],
     "prompt_number": 6
    },
    {
     "cell_type": "code",
     "collapsed": false,
     "input": [
      "T0 = 20.0 #graus celsius\n",
      "k = 2 #W/m/K\n",
      "q0 = 0.050 #W/m\u00b2\n",
      "rho = 2800.0 #kg/m\u00b3\n",
      "H = 9.6E-10 #W/kg\n",
      "\n",
      "T = T0 + q0*x/k- (rho*H)*x**2/(2*k)"
     ],
     "language": "python",
     "metadata": {},
     "outputs": [],
     "prompt_number": 8
    },
    {
     "cell_type": "code",
     "collapsed": false,
     "input": [
      "plt.plot(T, x/1000)\n",
      "plt.ylim(L/1000,0)\n",
      "plt.xlabel(\"Temperatura ($^\\circ$C)\")\n",
      "plt.ylabel(\"Profundidade (km)\")\n",
      "#considera a produ\u00e7\u00e3o de calor radiog\u00eanico constante ao longo da \"camada\" estudada -> temperaturas inexistentes"
     ],
     "language": "python",
     "metadata": {},
     "outputs": [
      {
       "metadata": {},
       "output_type": "pyout",
       "prompt_number": 11,
       "text": [
        "<matplotlib.text.Text at 0x7f5388b26eb8>"
       ]
      },
      {
       "metadata": {},
       "output_type": "display_data",
       "png": "[encoded data removed]",
       "text": [
        "<matplotlib.figure.Figure at 0x7f5388c226a0>"
       ]
      }
     ],
     "prompt_number": 11
    },
    {
     "cell_type": "code",
     "collapsed": false,
     "input": [
      "z = np.arange(0,L, dx)\n",
      "qm =0.025 #W/m\u00b2\n",
      "rhoH = 2.0E-6 #W/m\u00b2\n",
      "hr = 10.0E3\n",
      "T = T0 + qm*z/k + (hr**2*rhoH/k)*(1.0-np.exp(-z/hr))\n",
      "\n",
      "plt.plot(T,z/1000)\n",
      "plt.ylim(L/1000,0)\n",
      "plt.xlabel(\"Temperatura($^\\circ$C)\")\n",
      "plt.ylabel(\"Profundidade (km)\")\n",
      "#Modelo considerando o calor radiog\u00eanio; razo\u00e1vel para profundidades at\u00e9 ~100km (antes da astenosfera) -> convec\u00e7\u00e3o reduz o gradiente t\u00e9rmico"
     ],
     "language": "python",
     "metadata": {},
     "outputs": [
      {
       "metadata": {},
       "output_type": "pyout",
       "prompt_number": 14,
       "text": [
        "<matplotlib.text.Text at 0x7f5388b99748>"
       ]
      },
      {
       "metadata": {},
       "output_type": "display_data",
       "png": "[encoded data removed]",
       "text": [
        "<matplotlib.figure.Figure at 0x7f5388b2c1d0>"
       ]
      }
     ],
     "prompt_number": 14
    },
    {
     "cell_type": "code",
     "collapsed": false,
     "input": [],
     "language": "python",
     "metadata": {},
     "outputs": []
    }
   ],
   "metadata": {}
  }
 ]
}