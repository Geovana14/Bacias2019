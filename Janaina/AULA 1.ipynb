{
 "metadata": {
  "name": "",
  "signature": "sha256:7a255d09f6631fea3af85157f060244f13caf2c43d64ebe74bbcc2f243fda627"
 },
 "nbformat": 3,
 "nbformat_minor": 0,
 "worksheets": [
  {
   "cells": [
    {
     "cell_type": "heading",
     "level": 4,
     "metadata": {},
     "source": [
      "AULA 1 - Explorando o Python"
     ]
    },
    {
     "cell_type": "code",
     "collapsed": false,
     "input": [
      "a = 2\n",
      "b = 3\n",
      "c = \"carro\" #string\n",
      "x = a+b\n",
      "\n",
      "print(\"O valor de x \u00e9:\", x)"
     ],
     "language": "python",
     "metadata": {},
     "outputs": [
      {
       "output_type": "stream",
       "stream": "stdout",
       "text": [
        "O valor de x \u00e9: 5\n"
       ]
      }
     ],
     "prompt_number": 7
    },
    {
     "cell_type": "code",
     "collapsed": false,
     "input": [
      "a =[1,2]\n",
      "b =[3,4]\n",
      "\n",
      "x = a+b #concatenou os vetores\n",
      "\n",
      "print(\"x =\",x)"
     ],
     "language": "python",
     "metadata": {},
     "outputs": [
      {
       "output_type": "stream",
       "stream": "stdout",
       "text": [
        "x = [1, 2, 3, 4]\n"
       ]
      }
     ],
     "prompt_number": 19
    },
    {
     "cell_type": "code",
     "collapsed": false,
     "input": [
      "import numpy as np #importa a biblioteca numpy como np"
     ],
     "language": "python",
     "metadata": {},
     "outputs": [],
     "prompt_number": 20
    },
    {
     "cell_type": "code",
     "collapsed": false,
     "input": [
      "a = np.array([1,2]) #lista de par\u00e2metros\n",
      "b = np.array([3,4])\n",
      "\n",
      "x = a+b #somando listas\n",
      "\n",
      "y = 2*a\n",
      "\n",
      "print(\"x =\",x)\n",
      "\n",
      "print(\"y =\",y)"
     ],
     "language": "python",
     "metadata": {},
     "outputs": [
      {
       "output_type": "stream",
       "stream": "stdout",
       "text": [
        "x = [4 6]\n",
        "y = [2 4]\n"
       ]
      }
     ],
     "prompt_number": 21
    },
    {
     "cell_type": "code",
     "collapsed": false,
     "input": [
      "x = np.array([1,2,3,4,4,5,5,6,6,9])\n",
      "\n",
      "y = np.sin(x) #calcula o seno de cada par\u00e2metro da lista\n",
      "\n",
      "print(\"y =\", y)"
     ],
     "language": "python",
     "metadata": {},
     "outputs": [
      {
       "output_type": "stream",
       "stream": "stdout",
       "text": [
        "y = [ 0.84147098  0.90929743  0.14112001 -0.7568025  -0.7568025  -0.95892427\n",
        " -0.95892427 -0.2794155  -0.2794155   0.41211849]\n"
       ]
      }
     ],
     "prompt_number": 28
    },
    {
     "cell_type": "code",
     "collapsed": false,
     "input": [
      "x = np.arange (0,100,1) #cria um vetor de 0 a 100 andando de 1 em 1\n",
      "\n",
      "print(\"x =\", x)"
     ],
     "language": "python",
     "metadata": {},
     "outputs": [
      {
       "output_type": "stream",
       "stream": "stdout",
       "text": [
        "x = [ 0  1  2  3  4  5  6  7  8  9 10 11 12 13 14 15 16 17 18 19 20 21 22 23 24\n",
        " 25 26 27 28 29 30 31 32 33 34 35 36 37 38 39 40 41 42 43 44 45 46 47 48 49\n",
        " 50 51 52 53 54 55 56 57 58 59 60 61 62 63 64 65 66 67 68 69 70 71 72 73 74\n",
        " 75 76 77 78 79 80 81 82 83 84 85 86 87 88 89 90 91 92 93 94 95 96 97 98 99]\n"
       ]
      }
     ],
     "prompt_number": 30
    },
    {
     "cell_type": "code",
     "collapsed": false,
     "input": [
      "y = np.cos(x)\n",
      "\n",
      "print(\"y =\", y)"
     ],
     "language": "python",
     "metadata": {},
     "outputs": [
      {
       "output_type": "stream",
       "stream": "stdout",
       "text": [
        "y = [ 1.          0.54030231 -0.41614684 -0.9899925  -0.65364362  0.28366219\n",
        "  0.96017029  0.75390225 -0.14550003 -0.91113026 -0.83907153  0.0044257\n",
        "  0.84385396  0.90744678  0.13673722 -0.75968791 -0.95765948 -0.27516334\n",
        "  0.66031671  0.98870462  0.40808206 -0.54772926 -0.99996083 -0.53283302\n",
        "  0.42417901  0.99120281  0.64691932 -0.29213881 -0.96260587 -0.74805753\n",
        "  0.15425145  0.91474236  0.83422336 -0.01327675 -0.84857027 -0.90369221\n",
        " -0.12796369  0.76541405  0.95507364  0.26664293 -0.66693806 -0.98733928\n",
        " -0.39998531  0.5551133   0.99984331  0.52532199 -0.43217794 -0.99233547\n",
        " -0.64014434  0.30059254  0.96496603  0.7421542  -0.16299078 -0.91828279\n",
        " -0.82930983  0.02212676  0.85322011  0.89986683  0.11918014 -0.77108022\n",
        " -0.95241298 -0.25810164  0.67350716  0.98589658  0.39185723 -0.56245385\n",
        " -0.99964746 -0.5177698   0.44014302  0.99339038  0.6333192  -0.30902273\n",
        " -0.96725059 -0.73619272  0.17171734  0.92175127  0.82433133 -0.03097503\n",
        " -0.85780309 -0.89597095 -0.11038724  0.77668598  0.9496777   0.24954012\n",
        " -0.6800235  -0.98437664 -0.38369844  0.56975033  0.99937328  0.51017704\n",
        " -0.44807362 -0.99436746 -0.62644445  0.3174287   0.96945937  0.73017356\n",
        " -0.18043045 -0.92514754 -0.81928825  0.03982088]\n"
       ]
      }
     ],
     "prompt_number": 31
    },
    {
     "cell_type": "code",
     "collapsed": false,
     "input": [
      "x = np.arange(0,10,0.1)\n",
      "y = np.sin(x)"
     ],
     "language": "python",
     "metadata": {},
     "outputs": [],
     "prompt_number": 32
    },
    {
     "cell_type": "code",
     "collapsed": false,
     "input": [
      "import matplotlib.pyplot as plt"
     ],
     "language": "python",
     "metadata": {},
     "outputs": [],
     "prompt_number": 34
    },
    {
     "cell_type": "code",
     "collapsed": false,
     "input": [
      "plt.plot(x,y, \"r .\")\n",
      "plt.ylim(-1.1,1.1)\n",
      "plt.xlabel(\"Valores de $x$\")\n",
      "plt.ylabel(\"$y = \\sin(x)$\",fontsize=14)\n",
      "plt.grid(\"on\"),\n",
      "plt.title(\"Seno\")\n",
      "plt.savefig(\"seno.png\")\n",
      "plt.legend()\n",
      "plt.show()"
     ],
     "language": "python",
     "metadata": {},
     "outputs": [
      {
       "metadata": {},
       "output_type": "display_data",
       "png": "[encoded data removed]",
       "text": [
        "<matplotlib.figure.Figure at 0x7fb918623e10>"
       ]
      }
     ],
     "prompt_number": 46
    },
    {
     "cell_type": "code",
     "collapsed": false,
     "input": [
      "%ls #lista todos os arquivos da pasta"
     ],
     "language": "python",
     "metadata": {},
     "outputs": [
      {
       "output_type": "stream",
       "stream": "stdout",
       "text": [
        "AULA 1.ipynb  \u001b[0m\u001b[01;35mseno.png\u001b[0m\r\n"
       ]
      }
     ],
     "prompt_number": 47
    },
    {
     "cell_type": "code",
     "collapsed": false,
     "input": [
      "t = np.arange(2,5,1)\n",
      "\n",
      "print(\"t =\", t)"
     ],
     "language": "python",
     "metadata": {},
     "outputs": [
      {
       "output_type": "stream",
       "stream": "stdout",
       "text": [
        "t = [2 3 4]\n"
       ]
      }
     ],
     "prompt_number": 48
    },
    {
     "cell_type": "code",
     "collapsed": false,
     "input": [
      "np.size(t) #indica o tamanho do vetor"
     ],
     "language": "python",
     "metadata": {},
     "outputs": [
      {
       "metadata": {},
       "output_type": "pyout",
       "prompt_number": 49,
       "text": [
        "3"
       ]
      }
     ],
     "prompt_number": 49
    },
    {
     "cell_type": "code",
     "collapsed": false,
     "input": [
      "print(t[2])"
     ],
     "language": "python",
     "metadata": {},
     "outputs": [
      {
       "output_type": "stream",
       "stream": "stdout",
       "text": [
        "4\n"
       ]
      }
     ],
     "prompt_number": 51
    },
    {
     "cell_type": "code",
     "collapsed": false,
     "input": [
      "z = np.zeros((5,5)) #matriz 5 x 5 preenchida com zeros\n",
      "\n",
      "print(z)"
     ],
     "language": "python",
     "metadata": {},
     "outputs": [
      {
       "output_type": "stream",
       "stream": "stdout",
       "text": [
        "[[ 0.  0.  0.  0.  0.]\n",
        " [ 0.  0.  0.  0.  0.]\n",
        " [ 0.  0.  0.  0.  0.]\n",
        " [ 0.  0.  0.  0.  0.]\n",
        " [ 0.  0.  0.  0.  0.]]\n"
       ]
      }
     ],
     "prompt_number": 52
    },
    {
     "cell_type": "code",
     "collapsed": false,
     "input": [
      "z[4][1] = 10\n",
      "\n",
      "print(z)"
     ],
     "language": "python",
     "metadata": {},
     "outputs": [
      {
       "output_type": "stream",
       "stream": "stdout",
       "text": [
        "[[  0.   0.   0.   0.   0.]\n",
        " [  0.   0.   0.   0.   0.]\n",
        " [  0.   0.   0.   0.   0.]\n",
        " [  0.   0.   0.   0.   0.]\n",
        " [  0.  10.   0.   0.   0.]]\n"
       ]
      }
     ],
     "prompt_number": 53
    },
    {
     "cell_type": "code",
     "collapsed": false,
     "input": [],
     "language": "python",
     "metadata": {},
     "outputs": []
    }
   ],
   "metadata": {}
  }
 ]
}