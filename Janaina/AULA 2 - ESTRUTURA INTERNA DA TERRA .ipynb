{
 "metadata": {
  "name": "",
  "signature": "sha256:0793dac3a74af9b9b8fe0585bf35631164ef14714b643775b014ef72959554bc"
 },
 "nbformat": 3,
 "nbformat_minor": 0,
 "worksheets": [
  {
   "cells": [
    {
     "cell_type": "heading",
     "level": 4,
     "metadata": {},
     "source": [
      "AULA 2 - ESTUDO DO MODELO PREM"
     ]
    },
    {
     "cell_type": "code",
     "collapsed": false,
     "input": [
      "import numpy as np\n",
      "import matplotlib.pyplot as plt"
     ],
     "language": "python",
     "metadata": {},
     "outputs": [],
     "prompt_number": 1
    },
    {
     "cell_type": "code",
     "collapsed": false,
     "input": [
      "%ls #apresentados todos os arquivos presentes nesta pasta"
     ],
     "language": "python",
     "metadata": {},
     "outputs": [
      {
       "output_type": "stream",
       "stream": "stdout",
       "text": [
        "AULA 1.ipynb                               Untitled0.ipynb  \u001b[0m\u001b[01;35mseno.png\u001b[0m\r\n",
        "AULA 2 - ESTRUTURA INTERNA DA TERRA.ipynb  densidade.txt\r\n"
       ]
      }
     ],
     "prompt_number": 2
    },
    {
     "cell_type": "code",
     "collapsed": false,
     "input": [
      "#%cat densidade.txt #lista o conte\u00fado do arquivo\n",
      "\n",
      "A = np.loadtxt(\"densidade.txt\", skiprows=2) #carrega o conte\u00fado do arquivo"
     ],
     "language": "python",
     "metadata": {},
     "outputs": [],
     "prompt_number": 5
    },
    {
     "cell_type": "code",
     "collapsed": false,
     "input": [
      "print(A)"
     ],
     "language": "python",
     "metadata": {},
     "outputs": [
      {
       "output_type": "stream",
       "stream": "stdout",
       "text": [
        "[[  3.48000000e+03   2.89100000e+03   5.56650000e+03]\n",
        " [  3.50000000e+03   2.87100000e+03   5.55640000e+03]\n",
        " [  3.60000000e+03   2.77100000e+03   5.50640000e+03]\n",
        " [  3.70000000e+03   2.67100000e+03   5.45660000e+03]\n",
        " [  3.80000000e+03   2.57100000e+03   5.40680000e+03]\n",
        " [  3.90000000e+03   2.47100000e+03   5.35710000e+03]\n",
        " [  4.00000000e+03   2.37100000e+03   5.30730000e+03]\n",
        " [  4.10000000e+03   2.27100000e+03   5.25730000e+03]\n",
        " [  4.20000000e+03   2.17100000e+03   5.20720000e+03]\n",
        " [  4.30000000e+03   2.07100000e+03   5.15670000e+03]\n",
        " [  4.40000000e+03   1.97100000e+03   5.10590000e+03]\n",
        " [  4.50000000e+03   1.87100000e+03   5.05470000e+03]\n",
        " [  4.60000000e+03   1.77100000e+03   5.00300000e+03]\n",
        " [  4.70000000e+03   1.67100000e+03   4.95080000e+03]\n",
        " [  4.80000000e+03   1.57100000e+03   4.89790000e+03]\n",
        " [  4.90000000e+03   1.47100000e+03   4.84430000e+03]\n",
        " [  5.00000000e+03   1.37100000e+03   4.78990000e+03]\n",
        " [  5.10000000e+03   1.27100000e+03   4.73460000e+03]\n",
        " [  5.20000000e+03   1.17100000e+03   4.67850000e+03]\n",
        " [  5.30000000e+03   1.07100000e+03   4.62130000e+03]\n",
        " [  5.40000000e+03   9.71000000e+02   4.56310000e+03]\n",
        " [  5.50000000e+03   8.71000000e+02   4.50380000e+03]\n",
        " [  5.60000000e+03   7.71000000e+02   4.44320000e+03]\n",
        " [  5.70100000e+03   6.70000000e+02   4.38070000e+03]\n",
        " [  5.70100000e+03   6.70000000e+02   3.99210000e+03]\n",
        " [  5.80000000e+03   5.71000000e+02   3.93930000e+03]\n",
        " [  5.90000000e+03   4.71000000e+02   3.81320000e+03]\n",
        " [  5.97100000e+03   4.00000000e+02   3.72370000e+03]\n",
        " [  5.97100000e+03   4.00000000e+02   3.54330000e+03]\n",
        " [  6.00000000e+03   3.71000000e+02   3.52590000e+03]\n",
        " [  6.10000000e+03   2.71000000e+02   3.46620000e+03]\n",
        " [  6.15100000e+03   2.20000000e+02   3.43580000e+03]\n",
        " [  6.15100000e+03   2.20000000e+02   3.35950000e+03]\n",
        " [  6.20000000e+03   1.71000000e+02   3.36480000e+03]\n",
        " [  6.30000000e+03   7.10000000e+01   3.37570000e+03]\n",
        " [  6.34660000e+03   2.44000000e+01   3.38070000e+03]\n",
        " [  6.34660000e+03   2.44000000e+01   2.90000000e+03]\n",
        " [  6.35600000e+03   1.50000000e+01   2.90000000e+03]\n",
        " [  6.35600000e+03   1.50000000e+01   2.60000000e+03]\n",
        " [  6.36800000e+03   3.00000000e+00   2.60000000e+03]\n",
        " [  6.36800000e+03   3.00000000e+00   1.02000000e+03]\n",
        " [  6.37100000e+03   0.00000000e+00   1.02000000e+03]]\n"
       ]
      }
     ],
     "prompt_number": 6
    },
    {
     "cell_type": "code",
     "collapsed": false,
     "input": [
      "#Dados do modelo preliminar da terra (PREM)\n",
      "\n",
      "'''\n",
      "    r = raio\n",
      "    p = profundidade\n",
      "    d = densidade\n",
      "\n",
      "'''\n",
      "r, p, d = np.loadtxt(\"densidade.txt\", skiprows=2, unpack=True) #carrega o conte\u00fado do arquivo\n",
      "\n",
      "#unpack = desempacota o arquivo e o separa nas vari\u00e1veis"
     ],
     "language": "python",
     "metadata": {},
     "outputs": [],
     "prompt_number": 10
    },
    {
     "cell_type": "code",
     "collapsed": false,
     "input": [
      "plt.plot(d,p)\n",
      "plt.xlabel(\"Densidade (kg/m$^3$)\")\n",
      "plt.ylabel(\"Profundidade(km)\")\n",
      "plt.ylim(3000,-50) #Invertendo os limites, inverte o eixo\n",
      "plt.title(\"Modelo PREM\")\n",
      "\n",
      "#Modelo PREM assume a superf\u00edcie coberta por uma l\u00e1mina d'\u00e1gua (1000 kg/m\u00b3)"
     ],
     "language": "python",
     "metadata": {},
     "outputs": [
      {
       "metadata": {},
       "output_type": "pyout",
       "prompt_number": 16,
       "text": [
        "<matplotlib.text.Text at 0x7f8c943513c8>"
       ]
      },
      {
       "metadata": {},
       "output_type": "display_data",
       "png": "[encoded data removed]",
       "text": [
        "<matplotlib.figure.Figure at 0x7f8c9443dba8>"
       ]
      }
     ],
     "prompt_number": 16
    },
    {
     "cell_type": "code",
     "collapsed": false,
     "input": [
      "#C\u00e1lculo do N\u00famero de Rayleigh\n",
      "\n",
      "#Definindo as grandezas\n",
      "\n",
      "rho = 4000.0 #densidade (kg/m3)\n",
      "g = 10.0 #acelera\u00e7\u00e3o da gravidade (m/s\u00b2)\n",
      "alpha = 3.0E-5 #coeficiente de expans\u00e3o volum\u00e9trica (1/K)\n",
      "delta_T = 2000.0 #contraste de temperatura (K)\n",
      "b = 700000.0 #espessura do manto superior (m)\n",
      "visc = 1.0E21 #viscosidade (Pa.s)\n",
      "kappa =1.0E-6 #difusidade t\u00e9rmica (m\u00b2/s)\n",
      "H = 9.0E-12 #produ\u00e7\u00e3o de calor radiog\u00eanico por unidade de massa (W/kg)\n",
      "k = 4.0 #condutividade t\u00e9rmica (W/m/k)\n",
      "\n",
      "Ra_1 = (rho*g*alpha*delta_T*(b**3))/(visc*kappa) #ocorrendo contraste de temperatura\n",
      "Ra_2 = (alpha*(rho**2)*g*H*(b**5))/(k*visc*kappa) #mantendo a temperatura constante - produ\u00e7\u00e3o de calor radiog\u00eanico\n",
      "\n",
      "print(\"Ra1 =\",Ra_1)\n",
      "print(\"Ra2 =\",Ra_2)\n",
      "\n",
      "#Aumentando o N\u00famero de Rayleigh, aumenta a instabilidade, aumenta a convec\u00e7\u00e3o\n",
      "#N\u00famero de Rayleigh \u00e9 muito sens\u00edvel \u00e0 espessura da coluna de rocha"
     ],
     "language": "python",
     "metadata": {},
     "outputs": [
      {
       "output_type": "stream",
       "stream": "stdout",
       "text": [
        "Ra1 = 823200.0\n",
        "Ra2 = 1815156.0000000002\n"
       ]
      }
     ],
     "prompt_number": 20
    },
    {
     "cell_type": "code",
     "collapsed": false,
     "input": [],
     "language": "python",
     "metadata": {},
     "outputs": []
    }
   ],
   "metadata": {}
  }
 ]
}