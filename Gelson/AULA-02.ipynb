{
 "metadata": {
  "name": "",
  "signature": "sha256:4e28c5799b211fb19e91820710277fe2371050b0e40e7071b27f09de9a9f55fc"
 },
 "nbformat": 3,
 "nbformat_minor": 0,
 "worksheets": [
  {
   "cells": [
    {
     "cell_type": "code",
     "collapsed": false,
     "input": [
      "import numpy as np\n",
      "import matplotlib.pyplot as plt"
     ],
     "language": "python",
     "metadata": {},
     "outputs": [],
     "prompt_number": 2
    },
    {
     "cell_type": "code",
     "collapsed": false,
     "input": [
      "%ls #mostra os arquivos presente na pasta\n"
     ],
     "language": "python",
     "metadata": {},
     "outputs": [
      {
       "output_type": "stream",
       "stream": "stdout",
       "text": [
        "AULA-02.ipynb  densidade.txt\r\n"
       ]
      }
     ],
     "prompt_number": 3
    },
    {
     "cell_type": "code",
     "collapsed": false,
     "input": [
      "#%cat densidade.txt\n",
      "r, p, d = np.loadtxt(\"densidade.txt\", skiprows=2, unpack=True)\n",
      "# r -> raio, p -> profundidade, d -> densidade"
     ],
     "language": "python",
     "metadata": {},
     "outputs": [],
     "prompt_number": 8
    },
    {
     "cell_type": "code",
     "collapsed": false,
     "input": [
      "plt.plot(d, p)\n",
      "\n",
      "\n",
      "plt.xlabel(\"Densidade em Kg/m$^3$\")\n",
      "plt.ylabel(\"Profundidade em Km\")\n",
      "plt.ylim(3000, -50) #inverte o eixo"
     ],
     "language": "python",
     "metadata": {},
     "outputs": [
      {
       "metadata": {},
       "output_type": "pyout",
       "prompt_number": 15,
       "text": [
        "(3000, -50)"
       ]
      },
      {
       "metadata": {},
       "output_type": "display_data",
       "png": "[encoded data removed]",
       "text": [
        "<matplotlib.figure.Figure at 0x7f16954049e8>"
       ]
      }
     ],
     "prompt_number": 15
    },
    {
     "cell_type": "code",
     "collapsed": false,
     "input": [
      "#Calculo do Numero de Rayleigh"
     ],
     "language": "python",
     "metadata": {},
     "outputs": [],
     "prompt_number": 7
    },
    {
     "cell_type": "code",
     "collapsed": false,
     "input": [
      "rho = 4000.0 #densidade (Kg/m3)\n",
      "g = 10.0 # acelera\u00e7\u00e3o da gravidade (m/s2)\n",
      "alpha = 3.0E-5 #coeficiente de espans\u00e3o volum\u00e9trica (1/k)\n",
      "deltat = 2000.0 #contraste de temperatura (k)\n",
      "b = 700000.0 # espessura do manto (m)\n",
      "visc = 1.0E21 #Viscosidade (Pa.s)\n",
      "kappa = 1.0E-6 # difusividade termica (m/s)\n",
      "H = 9.0E-12 # Produ\u00e7\u00e3o de calor radiog\u00eanico por unidade de massa (W/Kg)\n",
      "k = 4.0 #condutividade termica (W/(m/k))\n",
      "\n",
      "\n",
      "Ra1 = (rho*g*alpha*deltat*b**3)/(visc*kappa)\n",
      "Ra2 = (alpha*rho**2*g*H*b**5)/(k*visc*kappa)\n",
      "\n",
      "\n",
      "print(Ra1)\n",
      "print(Ra2)"
     ],
     "language": "python",
     "metadata": {},
     "outputs": [
      {
       "output_type": "stream",
       "stream": "stdout",
       "text": [
        "823200.0\n",
        "1815156.0000000002\n"
       ]
      }
     ],
     "prompt_number": 21
    },
    {
     "cell_type": "code",
     "collapsed": false,
     "input": [],
     "language": "python",
     "metadata": {},
     "outputs": []
    }
   ],
   "metadata": {}
  }
 ]
}