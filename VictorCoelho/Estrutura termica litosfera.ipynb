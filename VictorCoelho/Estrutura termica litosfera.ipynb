{
 "metadata": {
  "name": "",
  "signature": "sha256:e7e24925153a1927af6b9402c96d74a5d45a1d30ea8cae47d9507d3c8e99c7ab"
 },
 "nbformat": 3,
 "nbformat_minor": 0,
 "worksheets": [
  {
   "cells": [
    {
     "cell_type": "markdown",
     "metadata": {},
     "source": [
      "Aula 03"
     ]
    },
    {
     "cell_type": "code",
     "collapsed": false,
     "input": [
      "import numpy as np\n",
      "import matplotlib.pyplot as plt"
     ],
     "language": "python",
     "metadata": {},
     "outputs": [],
     "prompt_number": 12
    },
    {
     "cell_type": "code",
     "collapsed": false,
     "input": [
      "L = 200.0E3 #m\n",
      "dx = 1000.0\n",
      "X = np.arange(0,L,dx)"
     ],
     "language": "python",
     "metadata": {},
     "outputs": [],
     "prompt_number": 25
    },
    {
     "cell_type": "code",
     "collapsed": false,
     "input": [
      "T0 = 20.0 #graus C\n",
      "K = 2 #W/m/K\n",
      "q0 = 0.05\n",
      "pho = 2800.0 #kg/m3\n",
      "h = 9.6E-10 #W/kg\n",
      "\n",
      "T = T0 + q0*X/K - pho*h*X**2/(2*K)"
     ],
     "language": "python",
     "metadata": {},
     "outputs": [],
     "prompt_number": 23
    },
    {
     "cell_type": "code",
     "collapsed": false,
     "input": [
      "plt.plot(T,X/1000)\n",
      "plt.ylim(200,0)\n",
      "plt.xlabel (\"Temperatura\")\n",
      "plt.ylabel (\"Profundidade (km)\")"
     ],
     "language": "python",
     "metadata": {},
     "outputs": [
      {
       "metadata": {},
       "output_type": "pyout",
       "prompt_number": 24,
       "text": [
        "<matplotlib.text.Text at 0x7f5f51276b38>"
       ]
      },
      {
       "metadata": {},
       "output_type": "display_data",
       "png": "[encoded data removed]",
       "text": [
        "<matplotlib.figure.Figure at 0x7f5f5126e4a8>"
       ]
      }
     ],
     "prompt_number": 24
    },
    {
     "cell_type": "code",
     "collapsed": false,
     "input": [
      "z = np.arange (0,L,dx)\n",
      "qm = 0.025 #W/m2\n",
      "rhoh = 2\n",
      "hr = 10.0E3\n",
      "T = T0 +qm*z/K+(hr**2*rhoh*hr/K)*(1.0*np.exp(-z/hr))\n",
      "plt.plot (T,z/1000)\n",
      "plt.ylim (2000,0)\n",
      "plt.xlabel (\"Temperatura\")\n",
      "plt.ylabel (\"Profundidade (km)\")"
     ],
     "language": "python",
     "metadata": {},
     "outputs": [
      {
       "metadata": {},
       "output_type": "pyout",
       "prompt_number": 33,
       "text": [
        "<matplotlib.text.Text at 0x7f5f51121518>"
       ]
      },
      {
       "metadata": {},
       "output_type": "display_data",
       "png": "[encoded data removed]",
       "text": [
        "<matplotlib.figure.Figure at 0x7f5f5111d1d0>"
       ]
      }
     ],
     "prompt_number": 33
    },
    {
     "cell_type": "code",
     "collapsed": false,
     "input": [],
     "language": "python",
     "metadata": {},
     "outputs": []
    }
   ],
   "metadata": {}
  }
 ]
}