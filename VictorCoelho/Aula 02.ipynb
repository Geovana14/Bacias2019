{
 "metadata": {
  "name": "",
  "signature": "sha256:7904f576a25e56eb925d549895eaaa9018dfb3eda72775b6eb6eead1c3367629"
 },
 "nbformat": 3,
 "nbformat_minor": 0,
 "worksheets": [
  {
   "cells": [
    {
     "cell_type": "code",
     "collapsed": false,
     "input": [
      "import numpy as np\n",
      "import matplotlib.pyplot as plt"
     ],
     "language": "python",
     "metadata": {},
     "outputs": [],
     "prompt_number": 5
    },
    {
     "cell_type": "code",
     "collapsed": false,
     "input": [
      "%ls"
     ],
     "language": "python",
     "metadata": {},
     "outputs": [
      {
       "output_type": "stream",
       "stream": "stdout",
       "text": [
        "Aula 02.ipynb  Aula01.ipynb  \u001b[0m\u001b[01;35mFigura_Seno.png\u001b[0m  densidade.txt\r\n"
       ]
      }
     ],
     "prompt_number": 2
    },
    {
     "cell_type": "code",
     "collapsed": false,
     "input": [
      "#%cat densidade.txt\n",
      "r,p,d = np.loadtxt(\"densidade.txt\",skiprows=2,unpack=True)"
     ],
     "language": "python",
     "metadata": {},
     "outputs": [],
     "prompt_number": 10
    },
    {
     "cell_type": "code",
     "collapsed": false,
     "input": [
      "plt.plot(d,p)\n",
      "plt.xlabel(\"densidade (kg/m$^3$)\")\n",
      "plt.ylabel(\"profundidade(km)\")\n",
      "plt.ylim(3000,-50)"
     ],
     "language": "python",
     "metadata": {},
     "outputs": [
      {
       "metadata": {},
       "output_type": "pyout",
       "prompt_number": 15,
       "text": [
        "(3000, -50)"
       ]
      },
      {
       "metadata": {},
       "output_type": "display_data",
       "png": "[encoded data removed]",
       "text": [
        "<matplotlib.figure.Figure at 0x7fe119d1ea20>"
       ]
      }
     ],
     "prompt_number": 15
    },
    {
     "cell_type": "code",
     "collapsed": false,
     "input": [
      "rho = 4000 # densdade (kg/m3)\n",
      "g = 10 #m/s2\n",
      "alpha = 3.0E-5#coeficiente de expansao volumetrica 1/K \n",
      "DeltaT = 2000.0 #contraste de temperatura (K)\n",
      "b = 700000 #espessura do manto superior\n",
      "visc = 1.0E21 #viscosidade (Pa.s)\n",
      "kappa = 1.0E-6 #difusividade termica (m2/s)\n",
      "H = 9.0E-12 #Producao de calor radiogenico por unidade de massa\n",
      "k = 4.0 #condutividade termica(W/m/K)\n",
      "\n",
      "Ra1 = (rho*g*DeltaT*alpha*b**3)/(visc*kappa)\n",
      "Ra2 = (alpha*rho**2*g*H*b**5)/(k*visc*kappa)\n",
      "\n",
      "print (Ra1,Ra2)"
     ],
     "language": "python",
     "metadata": {},
     "outputs": [
      {
       "output_type": "stream",
       "stream": "stdout",
       "text": [
        "823200.0 1815156.0000000002\n"
       ]
      }
     ],
     "prompt_number": 16
    },
    {
     "cell_type": "code",
     "collapsed": false,
     "input": [
      "t"
     ],
     "language": "python",
     "metadata": {},
     "outputs": []
    }
   ],
   "metadata": {}
  }
 ]
}