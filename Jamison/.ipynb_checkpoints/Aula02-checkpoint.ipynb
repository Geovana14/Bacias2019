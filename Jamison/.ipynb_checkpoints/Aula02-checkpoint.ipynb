{
 "metadata": {
  "name": "",
  "signature": "sha256:a764f29bdb4c1c003614bc66d2c71f27784e1e9aa68ee9d8acfdd86b68071e2c"
 },
 "nbformat": 3,
 "nbformat_minor": 0,
 "worksheets": [
  {
   "cells": [
    {
     "cell_type": "code",
     "collapsed": false,
     "input": [
      "import numpy as np\n",
      "import matplotlib.pyplot as plt"
     ],
     "language": "python",
     "metadata": {},
     "outputs": [],
     "prompt_number": 1
    },
    {
     "cell_type": "code",
     "collapsed": false,
     "input": [
      "r, p, d = np.loadtxt('densidade.txt',unpack=True,skiprows=2)"
     ],
     "language": "python",
     "metadata": {},
     "outputs": [],
     "prompt_number": 3
    },
    {
     "cell_type": "code",
     "collapsed": false,
     "input": [
      "plt.figure(figsize=(5,10))\n",
      "plt.plot(d,p)\n",
      "plt.xlabel(\"Densidade (kg/m$^3$)\")\n",
      "plt.ylabel(\"Profundidade (km)\")\n",
      "plt.ylim(p.max()+100,p.min()-100)"
     ],
     "language": "python",
     "metadata": {},
     "outputs": [
      {
       "metadata": {},
       "output_type": "pyout",
       "prompt_number": 7,
       "text": [
        "(2991.0, -100.0)"
       ]
      },
      {
       "metadata": {},
       "output_type": "display_data",
       "png": "[encoded data removed]",
       "text": [
        "<matplotlib.figure.Figure at 0x7f172e7017b8>"
       ]
      }
     ],
     "prompt_number": 7
    },
    {
     "cell_type": "markdown",
     "metadata": {},
     "source": [
      "# N\u00famero de Rayleigh"
     ]
    },
    {
     "cell_type": "code",
     "collapsed": false,
     "input": [
      "rho = 4000. # kg/m3\n",
      "g = 10.0 # m/s2\n",
      "alpha = 3.0E-5 # 1/K\n",
      "DeltaT = 2000. # K\n",
      "b = 700.0E3 # m\n",
      "visc = 1.0E21 # Pa s\n",
      "kappa = 1.0E-6 # m2/s\n",
      "H = 9.0E-12 # W/kg\n",
      "k = 4. # W/m/K\n",
      "\n",
      "Ra1 = (rho*g*alpha*DeltaT*b**3) / (visc*kappa)\n",
      "Ra2 = (alpha*rho**2*g*H*b**5) / (k*visc*kappa)"
     ],
     "language": "python",
     "metadata": {},
     "outputs": [],
     "prompt_number": 5
    },
    {
     "cell_type": "code",
     "collapsed": false,
     "input": [
      "Ra1,Ra2"
     ],
     "language": "python",
     "metadata": {},
     "outputs": [
      {
       "metadata": {},
       "output_type": "pyout",
       "prompt_number": 6,
       "text": [
        "(823200.0, 1815156.0000000002)"
       ]
      }
     ],
     "prompt_number": 6
    },
    {
     "cell_type": "code",
     "collapsed": false,
     "input": [],
     "language": "python",
     "metadata": {},
     "outputs": []
    }
   ],
   "metadata": {}
  }
 ]
}