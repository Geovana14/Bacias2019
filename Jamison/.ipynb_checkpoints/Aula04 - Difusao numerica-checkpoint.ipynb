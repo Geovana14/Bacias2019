{
 "metadata": {
  "name": "",
  "signature": "sha256:01996722f518576a91dc9b97e5328c52ba3ecff391e0112bcd22c1508da95541"
 },
 "nbformat": 3,
 "nbformat_minor": 0,
 "worksheets": [
  {
   "cells": [
    {
     "cell_type": "code",
     "collapsed": false,
     "input": [
      "import numpy as np\n",
      "import matplotlib.pyplot as plt"
     ],
     "language": "python",
     "metadata": {},
     "outputs": [],
     "prompt_number": 1
    },
    {
     "cell_type": "code",
     "collapsed": false,
     "input": [
      "kappa = 1.0E-6\n",
      "\n",
      "L = 100.0E3\n",
      "dx = 1.0E3\n",
      "\n",
      "T0 = 0.0\n",
      "T1 = 1300.0\n",
      "\n",
      "x = np.linspace(0,L,int(L/dx)+1)\n",
      "T = np.zeros(x.size) + T1\n",
      "T[0] = T0\n",
      "\n",
      "plt.figure(figsize=(5,10))\n",
      "plt.plot(T,x/1.0E3,\"k\")\n",
      "plt.ylim(L/1.0E3,-2)\n",
      "\n",
      "t = 0\n",
      "t_max = 40.0E6\n",
      "dt = 1.0E3\n",
      "dt_seg = dt*365.25*24.*60.*60.\n",
      "t_print = 0.\n",
      "\n",
      "while t<=t_max:\n",
      "    Tfuturo = T[1:-1] + kappa * dt_seg * (T[2:]-2*T[1:-1]+T[:-2]) / dx**2\n",
      "    T[1:-1] = Tfuturo\n",
      "    \n",
      "    if t>t_print:\n",
      "        t_print = t_tprint + 5.0E6\n",
      "        plt.plot(T,z/1.0E3,\"b\")\n",
      "    t += dt\n",
      "plt.plot(T,x/1.0E3,\"r\")"
     ],
     "language": "python",
     "metadata": {},
     "outputs": []
    },
    {
     "cell_type": "code",
     "collapsed": false,
     "input": [],
     "language": "python",
     "metadata": {},
     "outputs": [],
     "prompt_number": 16
    },
    {
     "cell_type": "code",
     "collapsed": false,
     "input": [],
     "language": "python",
     "metadata": {},
     "outputs": []
    }
   ],
   "metadata": {}
  }
 ]
}