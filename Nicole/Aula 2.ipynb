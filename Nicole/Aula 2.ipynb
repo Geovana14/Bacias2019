{
 "metadata": {
  "name": "",
  "signature": "sha256:9d661ba9d9a360a26f4341c1e9c6582c357fee15adced7aeba1b1d042d8c989f"
 },
 "nbformat": 3,
 "nbformat_minor": 0,
 "worksheets": [
  {
   "cells": [
    {
     "cell_type": "code",
     "collapsed": false,
     "input": [
      "import numpy as np\n",
      "import matplotlib.pyplot as plt"
     ],
     "language": "python",
     "metadata": {},
     "outputs": [],
     "prompt_number": 9
    },
    {
     "cell_type": "code",
     "collapsed": false,
     "input": [
      "%ls"
     ],
     "language": "python",
     "metadata": {},
     "outputs": [
      {
       "output_type": "stream",
       "stream": "stdout",
       "text": [
        "Aula 1.ipynb  Aula 2.ipynb  densidade.txt  \u001b[0m\u001b[01;35mfigura.seno.png\u001b[0m\r\n"
       ]
      }
     ],
     "prompt_number": 14
    },
    {
     "cell_type": "code",
     "collapsed": false,
     "input": [
      "#%cat densidade.txt\n",
      "r, p, d = np.loadtxt(\"densidade.txt\", skiprows = 2, unpack = True)"
     ],
     "language": "python",
     "metadata": {},
     "outputs": [],
     "prompt_number": 15
    },
    {
     "cell_type": "code",
     "collapsed": false,
     "input": [
      "plt.plot(d, p)\n",
      "plt.xlabel(\"Densidade (kg/m$^3$)\")\n",
      "plt.ylabel(\"Profundidade (km)\")\n",
      "plt.ylim(3000, -50)"
     ],
     "language": "python",
     "metadata": {},
     "outputs": [
      {
       "metadata": {},
       "output_type": "pyout",
       "prompt_number": 16,
       "text": [
        "(3000, -50)"
       ]
      },
      {
       "metadata": {},
       "output_type": "display_data",
       "png": "[encoded data removed]",
       "text": [
        "<matplotlib.figure.Figure at 0x7fd51838dfd0>"
       ]
      }
     ],
     "prompt_number": 16
    },
    {
     "cell_type": "code",
     "collapsed": false,
     "input": [
      "rho = 4000.0 # densidade (kg/m3)\n",
      "g = 10.0 # acelera\u00e7\u00e3o da gravidade (m/s2)\n",
      "alpha = 3.0E-5 # coeficiente de expans\u00e3o volum\u00e9trica (1/K)\n",
      "DeltaT = 2000.0 # contraste de temperatura (K)\n",
      "b = 700000.0 # espessura do manto superior (m)\n",
      "visc = 1.0E21 # viscosidade (Pa.s)\n",
      "kappa = 1.0E-6 # difusividade t\u00e9rmica (m2/s)\n",
      "H = 9.0E-12 # produ\u00e7\u00e3o de calor radiog\u00eanico por unidade de massa (W/kg)\n",
      "k = 4.0 # condutividade t\u00e9rmica (W/m/K)"
     ],
     "language": "python",
     "metadata": {},
     "outputs": [],
     "prompt_number": 17
    },
    {
     "cell_type": "code",
     "collapsed": false,
     "input": [
      "Ra1 = (rho*g*alpha*DeltaT*b**3)/(visc*kappa)\n",
      "Ra2 = (alpha*rho**2*g*H*b**5)/(k*visc*kappa)\n",
      "\n",
      "print(Ra1, Ra2)"
     ],
     "language": "python",
     "metadata": {},
     "outputs": [
      {
       "output_type": "stream",
       "stream": "stdout",
       "text": [
        "823200.0 1815156.0000000002\n"
       ]
      }
     ],
     "prompt_number": 21
    },
    {
     "cell_type": "code",
     "collapsed": false,
     "input": [],
     "language": "python",
     "metadata": {},
     "outputs": []
    }
   ],
   "metadata": {}
  }
 ]
}