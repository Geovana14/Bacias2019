{
 "metadata": {
  "name": "",
  "signature": "sha256:4ad16538ce87915941fc1c3f526b4314920183bf8a686453827075f07e284395"
 },
 "nbformat": 3,
 "nbformat_minor": 0,
 "worksheets": []
}