{
 "metadata": {
  "name": "",
  "signature": "sha256:fd50c9c3b0d904cabda2f7f96623f5e5f0c44c0a17baaa3f64922de95e39ab8c"
 },
 "nbformat": 3,
 "nbformat_minor": 0,
 "worksheets": [
  {
   "cells": [
    {
     "cell_type": "markdown",
     "metadata": {},
     "source": [
      "#Aula 1\n",
      "\n",
      "Teste"
     ]
    },
    {
     "cell_type": "code",
     "collapsed": false,
     "input": [
      "#Atribui\u00e7\u00e3o\n",
      "a = 2.0\n",
      "b = 3\n",
      "x = a + b\n",
      "\n",
      "print(\"O valor de x \u00e9:\",x)"
     ],
     "language": "python",
     "metadata": {},
     "outputs": [
      {
       "output_type": "stream",
       "stream": "stdout",
       "text": [
        "O valor de x \u00e9: 5.0\n"
       ]
      }
     ],
     "prompt_number": 5
    },
    {
     "cell_type": "code",
     "collapsed": false,
     "input": [
      "#Imprimindo strings\n",
      "c = \"aula01\"\n",
      "print(c)"
     ],
     "language": "python",
     "metadata": {},
     "outputs": [
      {
       "output_type": "stream",
       "stream": "stdout",
       "text": [
        "aula01\n"
       ]
      }
     ],
     "prompt_number": 8
    },
    {
     "cell_type": "code",
     "collapsed": false,
     "input": [
      "#Criando listas\n",
      "a = [1,2]\n",
      "b = [3,4]\n",
      "x = a + b #Concatena os vetores ao inv\u00e9s de som\u00e1-los\n",
      "\n",
      "print(x)"
     ],
     "language": "python",
     "metadata": {},
     "outputs": [
      {
       "output_type": "stream",
       "stream": "stdout",
       "text": [
        "[1, 2, 3, 4]\n"
       ]
      }
     ],
     "prompt_number": 10
    },
    {
     "cell_type": "code",
     "collapsed": false,
     "input": [
      "#Importando a biblioteca num\u00e9rica\n",
      "import numpy as np"
     ],
     "language": "python",
     "metadata": {},
     "outputs": [],
     "prompt_number": 11
    },
    {
     "cell_type": "code",
     "collapsed": false,
     "input": [
      "#Ferramenta num\u00e9rica para soma de vetores\n",
      "a = np.array([1,2]) \n",
      "b = np.array([3,4])\n",
      "\n",
      "x = a + b\n",
      "y = a**2\n",
      "\n",
      "print(\"a+b:\",x)\n",
      "print(\"a^2:\",y)"
     ],
     "language": "python",
     "metadata": {},
     "outputs": [
      {
       "output_type": "stream",
       "stream": "stdout",
       "text": [
        "a+b: [4 6]\n",
        "a^2: [1 4]\n"
       ]
      }
     ],
     "prompt_number": 16
    },
    {
     "cell_type": "code",
     "collapsed": false,
     "input": [
      "x = np.array([1,2,3,4,5,6,7,8,9,10])\n",
      "y = np.sin(x)\n",
      "print(y)"
     ],
     "language": "python",
     "metadata": {},
     "outputs": [
      {
       "output_type": "stream",
       "stream": "stdout",
       "text": [
        "[ 0.84147098  0.90929743  0.14112001 -0.7568025  -0.95892427 -0.2794155\n",
        "  0.6569866   0.98935825  0.41211849 -0.54402111]\n"
       ]
      }
     ],
     "prompt_number": 18
    },
    {
     "cell_type": "code",
     "collapsed": false,
     "input": [
      "x = np.arange(0,100,1) #Cria lista com passo de 1 em 1\n",
      "#print(x)\n",
      "y = np.sin(x)\n",
      "print(y)"
     ],
     "language": "python",
     "metadata": {},
     "outputs": [
      {
       "output_type": "stream",
       "stream": "stdout",
       "text": [
        "[ 0.          0.84147098  0.90929743  0.14112001 -0.7568025  -0.95892427\n",
        " -0.2794155   0.6569866   0.98935825  0.41211849 -0.54402111 -0.99999021\n",
        " -0.53657292  0.42016704  0.99060736  0.65028784 -0.28790332 -0.96139749\n",
        " -0.75098725  0.14987721  0.91294525  0.83665564 -0.00885131 -0.8462204\n",
        " -0.90557836 -0.13235175  0.76255845  0.95637593  0.27090579 -0.66363388\n",
        " -0.98803162 -0.40403765  0.55142668  0.99991186  0.52908269 -0.42818267\n",
        " -0.99177885 -0.64353813  0.29636858  0.96379539  0.74511316 -0.15862267\n",
        " -0.91652155 -0.83177474  0.01770193  0.85090352  0.90178835  0.12357312\n",
        " -0.76825466 -0.95375265 -0.26237485  0.67022918  0.98662759  0.39592515\n",
        " -0.55878905 -0.99975517 -0.521551    0.43616476  0.99287265  0.63673801\n",
        " -0.30481062 -0.96611777 -0.7391807   0.1673557   0.92002604  0.82682868\n",
        " -0.02655115 -0.85551998 -0.89792768 -0.11478481  0.77389068  0.95105465\n",
        "  0.25382336 -0.67677196 -0.98514626 -0.38778164  0.56610764  0.99952016\n",
        "  0.51397846 -0.44411267 -0.99388865 -0.62988799  0.31322878  0.96836446\n",
        "  0.73319032 -0.17607562 -0.92345845 -0.82181784  0.0353983   0.86006941\n",
        "  0.89399666  0.10598751 -0.77946607 -0.94828214 -0.24525199  0.68326171\n",
        "  0.98358775  0.37960774 -0.57338187 -0.99920683]\n"
       ]
      }
     ],
     "prompt_number": 20
    },
    {
     "cell_type": "code",
     "collapsed": false,
     "input": [
      "x = np.arange(0,10,0.1)\n",
      "y = np.sin(x)"
     ],
     "language": "python",
     "metadata": {},
     "outputs": [],
     "prompt_number": 21
    },
    {
     "cell_type": "code",
     "collapsed": false,
     "input": [
      "#Importando biblioteca gr\u00e1fica\n",
      "import matplotlib.pyplot as plt"
     ],
     "language": "python",
     "metadata": {},
     "outputs": [],
     "prompt_number": 22
    },
    {
     "cell_type": "code",
     "collapsed": false,
     "input": [
      "plt.plot(x,y,\"g.-\") #\"g\" muda a cor do gr\u00e1fico para verde. O padr\u00e3o \u00e9 azul. \".-\" significa tra\u00e7ar os pontos e a linha.\n",
      "plt.ylim(-1.1,1.1)\n",
      "plt.xlabel(\"Valores de $x$\")\n",
      "plt.ylabel(\"$y = \\sin(x)$\",fontsize=14) #O conte\u00fado escrito entre os $ significa estilizar (estilo latex)\n",
      "plt.savefig(\"Figura_seno.png\")"
     ],
     "language": "python",
     "metadata": {},
     "outputs": [
      {
       "metadata": {},
       "output_type": "display_data",
       "png": "[encoded data removed]",
       "text": [
        "<matplotlib.figure.Figure at 0x7f7c94054390>"
       ]
      }
     ],
     "prompt_number": 31
    },
    {
     "cell_type": "code",
     "collapsed": false,
     "input": [
      "#Listando os arquivos que tem na pasta\n",
      "%ls "
     ],
     "language": "python",
     "metadata": {},
     "outputs": [
      {
       "output_type": "stream",
       "stream": "stdout",
       "text": [
        "Aula01.ipynb  \u001b[0m\u001b[01;35mFigura_seno.png\u001b[0m\r\n"
       ]
      }
     ],
     "prompt_number": 32
    },
    {
     "cell_type": "code",
     "collapsed": false,
     "input": [
      "# IMPORTANTE: O arange nao inclui o 5\n",
      "t = np.arange(2,5,1)\n",
      "print(t)\n",
      "\n",
      "# O primeiro \u00edndice do vetor \u00e9 0\n",
      "print(\"O primeiro termo do vetor \u00e9:\",t[0])\n",
      "\n",
      "# Imprimindo o \u00faltimo termo\n",
      "print(\"O \u00faltimo termo do vetor \u00e9:\",t[-1])\n",
      "print(\"O pen\u00faltimo termo do vetor \u00e9:\",t[-2])"
     ],
     "language": "python",
     "metadata": {},
     "outputs": [
      {
       "output_type": "stream",
       "stream": "stdout",
       "text": [
        "[2 3 4]\n",
        "O primeiro termo do vetor \u00e9: 2\n",
        "O \u00faltimo termo do vetor \u00e9: 4\n",
        "O pen\u00faltimo termo do vetor \u00e9: 3\n"
       ]
      }
     ],
     "prompt_number": 36
    }
   ],
   "metadata": {}
  }
 ]
}