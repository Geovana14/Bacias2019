{
 "metadata": {
  "name": "",
  "signature": "sha256:23b07012e98ac6ad76ae12b3d7bd73cf76aa52a2829b59ee53e0ac61fa4d7072"
 },
 "nbformat": 3,
 "nbformat_minor": 0,
 "worksheets": [
  {
   "cells": [
    {
     "cell_type": "code",
     "collapsed": false,
     "input": [
      "import numpy as np\n",
      "import matplotlib.pyplot as plt"
     ],
     "language": "python",
     "metadata": {},
     "outputs": [],
     "prompt_number": 1
    },
    {
     "cell_type": "markdown",
     "metadata": {},
     "source": [
      "- C\u00e1lculo de T com H constante"
     ]
    },
    {
     "cell_type": "code",
     "collapsed": false,
     "input": [
      "L = 200.0E3 #Tamanho do modelo (m)\n",
      "dx = 10.0E3 #Espa\u00e7amento em metros\n",
      "x = np.arange(0,L,dx) #Pontos de 0 a L com espacamento de dx\n",
      "\n",
      "\n",
      "T0 = 20.0 #graus Celsius.\n",
      "k = 2 #W/m/k\n",
      "q0 = 0.050 #W/m2\n",
      "rho = 2800.0 #Densidade da crosta kg/m3\n",
      "H = 9.6E-10 #W/kg"
     ],
     "language": "python",
     "metadata": {},
     "outputs": [],
     "prompt_number": 5
    },
    {
     "cell_type": "code",
     "collapsed": false,
     "input": [
      "T = T0 + q0*x/k - rho*H*x**2/(2*k) #Equacao da variacao da temperatura"
     ],
     "language": "python",
     "metadata": {},
     "outputs": [],
     "prompt_number": 6
    },
    {
     "cell_type": "code",
     "collapsed": false,
     "input": [
      "plt.plot(T,x/1000) #Passou x de metro para quilometro\n",
      "plt.ylim(L/1000,0) #Eixo x aumentando pra baixo\n",
      "plt.xlabel(\"Temperatura ($^\\circ$C)\")\n",
      "plt.ylabel(\"Profundidade (km)\")"
     ],
     "language": "python",
     "metadata": {},
     "outputs": [
      {
       "metadata": {},
       "output_type": "pyout",
       "prompt_number": 7,
       "text": [
        "<matplotlib.text.Text at 0x7fa3c899c2b0>"
       ]
      },
      {
       "metadata": {},
       "output_type": "display_data",
       "png": "[encoded data removed]",
       "text": [
        "<matplotlib.figure.Figure at 0x7fa3c8a7c588>"
       ]
      }
     ],
     "prompt_number": 7
    },
    {
     "cell_type": "markdown",
     "metadata": {},
     "source": [
      "O problema deste modelo \u00e9 que consideramos a produ\u00e7\u00e3o de calor radiog\u00eanico constante da crosta at\u00e9 o manto. Por\u00e9m o calor rediog\u00eanico acontece principalmente na crosta.\n",
      "\n",
      "O calor radiog\u00eanico decai com a profundidade."
     ]
    },
    {
     "cell_type": "markdown",
     "metadata": {},
     "source": [
      "- C\u00e1lculo de T com H vari\u00e1vel (caindo exponencialmente com a profundidade)"
     ]
    },
    {
     "cell_type": "code",
     "collapsed": false,
     "input": [
      "z = np.arange(0,L,dx)\n",
      "\n",
      "qm = 25.0E-3 #(W/m2)\n",
      "hr = 10.0E3 #(m)\n",
      "rhoH0 = 2.0E-6 #(W/m3)"
     ],
     "language": "python",
     "metadata": {},
     "outputs": [],
     "prompt_number": 11
    },
    {
     "cell_type": "code",
     "collapsed": false,
     "input": [
      "T = T0 + qm*z/k + hr**2*rhoH0/k*(1-np.exp(-z/hr))"
     ],
     "language": "python",
     "metadata": {},
     "outputs": [],
     "prompt_number": 12
    },
    {
     "cell_type": "code",
     "collapsed": false,
     "input": [
      "plt.plot(T,z/1000) #Passou z de metro para quilometro\n",
      "plt.ylim(L/1000,0) #Eixo z aumentando pra baixo\n",
      "plt.xlabel(\"Temperatura ($^\\circ$C)\")\n",
      "plt.ylabel(\"Profundidade (km)\")"
     ],
     "language": "python",
     "metadata": {},
     "outputs": [
      {
       "metadata": {},
       "output_type": "pyout",
       "prompt_number": 16,
       "text": [
        "<matplotlib.text.Text at 0x7fa3c89f0470>"
       ]
      },
      {
       "metadata": {},
       "output_type": "display_data",
       "png": "[encoded data removed]",
       "text": [
        "<matplotlib.figure.Figure at 0x7fa3c895fcc0>"
       ]
      }
     ],
     "prompt_number": 16
    }
   ],
   "metadata": {}
  }
 ]
}