{
 "metadata": {
  "name": "",
  "signature": "sha256:47eaa459420c56ae75cdca926a2e8256d75ed10540d0cfd688d601b2b512008d"
 },
 "nbformat": 3,
 "nbformat_minor": 0,
 "worksheets": [
  {
   "cells": [
    {
     "cell_type": "markdown",
     "metadata": {},
     "source": [
      "#AULA 2\n",
      "Estrutura interna da Terra e geodin\u00e2mica das placas litosf\u00e9ricas."
     ]
    },
    {
     "cell_type": "code",
     "collapsed": false,
     "input": [
      "import numpy as np\n",
      "import matplotlib.pyplot as plt"
     ],
     "language": "python",
     "metadata": {},
     "outputs": [],
     "prompt_number": 4
    },
    {
     "cell_type": "markdown",
     "metadata": {},
     "source": [
      "* Determinando o n\u00famero de Rayleigh."
     ]
    },
    {
     "cell_type": "code",
     "collapsed": false,
     "input": [
      "rho = 4000.0 #densidade (kg/m3)\n",
      "g = 10.0 #acelera\u00e7\u00e3o da gravidade (m/s\u00b2)\n",
      "alpha = 3E-5 #coeficiente de expans\u00e3o volum\u00e9trica do manto (1/K)\n",
      "dT = 2000.0 #diferen\u00e7a de temperatura (K)\n",
      "b = 700000.0 #espessura (m)\n",
      "mi = 1.0E21 #viscosidade (Pa.s)\n",
      "kappa = 1.0E-6 #difusividade t\u00e9rmica (m2/s)\n",
      "H = 9.0E-12 #produtividade de calor radiog\u00eanico interno - manto (W/kg)\n",
      "k = 4.0 #conditividade termica (W/m/K)\n",
      "\n",
      "Ra1 = (rho*g*alpha*dT*b**3)/(mi*kappa) #contraste de temperatura\n",
      "Ra2 = (alpha*rho**2*g*H*b**5)/(k*mi*kappa) #contraste de temperatura fixo - produ\u00e7\u00e3o de calor radiog\u00eanico\n",
      "\n",
      "print(Ra1,Ra2)"
     ],
     "language": "python",
     "metadata": {},
     "outputs": [
      {
       "output_type": "stream",
       "stream": "stdout",
       "text": [
        "823200.0 1815156.0000000002\n"
       ]
      }
     ],
     "prompt_number": 6
    }
   ],
   "metadata": {}
  }
 ]
}