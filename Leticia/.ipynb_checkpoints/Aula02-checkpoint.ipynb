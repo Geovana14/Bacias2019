{
 "metadata": {
  "name": "",
  "signature": "sha256:a67867c6d02213ecbe6a2c94332dd1444eec5395ba1713d8f3c63899d1b3032d"
 },
 "nbformat": 3,
 "nbformat_minor": 0,
 "worksheets": [
  {
   "cells": [
    {
     "cell_type": "code",
     "collapsed": false,
     "input": [
      "import numpy as np\n",
      "import matplotlib.pyplot as plt"
     ],
     "language": "python",
     "metadata": {},
     "outputs": [],
     "prompt_number": 1
    },
    {
     "cell_type": "code",
     "collapsed": false,
     "input": [
      "%ls"
     ],
     "language": "python",
     "metadata": {},
     "outputs": [
      {
       "output_type": "stream",
       "stream": "stdout",
       "text": [
        "Aula01.ipynb  Aula02.ipynb  \u001b[0m\u001b[01;35mFigura1.png\u001b[0m  densidade.txt\r\n"
       ]
      }
     ],
     "prompt_number": 2
    },
    {
     "cell_type": "code",
     "collapsed": false,
     "input": [
      "#%cat densidade.txt\n",
      "r,p,d = np.loadtxt(\"densidade.txt\", skiprows=2, unpack=True)"
     ],
     "language": "python",
     "metadata": {},
     "outputs": [],
     "prompt_number": 10
    },
    {
     "cell_type": "code",
     "collapsed": false,
     "input": [
      "plt.plot(d,p)\n",
      "plt.xlabel(\"Densidade(kg/m$^3$)\", fontsize=12)\n",
      "plt.ylabel (\"Profundidade (km)\", fontsize=12)\n",
      "plt.ylim(3000,-50)\n"
     ],
     "language": "python",
     "metadata": {},
     "outputs": [
      {
       "metadata": {},
       "output_type": "pyout",
       "prompt_number": 23,
       "text": [
        "(3000, -50)"
       ]
      },
      {
       "metadata": {},
       "output_type": "display_data",
       "png": "[encoded data removed]",
       "text": [
        "<matplotlib.figure.Figure at 0x7fc3d465da90>"
       ]
      }
     ],
     "prompt_number": 23
    },
    {
     "cell_type": "code",
     "collapsed": false,
     "input": [
      "rho = 4000.0 # densidade (kg/m3)\n",
      "g = 10.0 # m/s2\n",
      "alpha = 3.0E-5 # coeficiente de expansao volumetrica (1/K)\n",
      "DeltaT = 2000.0 # contraste de temperatura (K)\n",
      "b = 700000.0 # espessura do manto superior (m)\n",
      "visc = 1.0E21 # viscosidade (Pa.s)\n",
      "kappa = 1.0E-6 # difusividade termica (m2/s)\n",
      "H = 9.0E-12 # produ\u00e7\u00e3o de calor radiogenico por unidade de massa (W/Kg)\n",
      "k = 4.0 # condutividade termica (W/m/K)\n",
      "\n",
      "Ra1 = (rho*g*alpha*DeltaT*b**3)/(visc*kappa)\n",
      "Ra2 = (alpha*rho**2*g*H*b**5)/(k*visc*kappa)\n",
      "\n",
      "print(Ra1,Ra2)"
     ],
     "language": "python",
     "metadata": {},
     "outputs": [
      {
       "output_type": "stream",
       "stream": "stdout",
       "text": [
        "823200.0 1815156.0000000002\n"
       ]
      }
     ],
     "prompt_number": 25
    },
    {
     "cell_type": "code",
     "collapsed": false,
     "input": [],
     "language": "python",
     "metadata": {},
     "outputs": []
    }
   ],
   "metadata": {}
  }
 ]
}