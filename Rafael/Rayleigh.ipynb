{
 "metadata": {
  "name": "",
  "signature": "sha256:74d79955e31632e621bd254210e202df6bd6094704eff2784e5d0d72807ce7f2"
 },
 "nbformat": 3,
 "nbformat_minor": 0,
 "worksheets": [
  {
   "cells": [
    {
     "cell_type": "code",
     "collapsed": false,
     "input": [],
     "language": "python",
     "metadata": {},
     "outputs": []
    }
   ],
   "metadata": {}
  }
 ]
}