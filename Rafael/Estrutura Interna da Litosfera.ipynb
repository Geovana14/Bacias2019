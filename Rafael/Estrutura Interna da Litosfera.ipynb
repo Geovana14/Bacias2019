{
 "metadata": {
  "name": "",
  "signature": "sha256:fc0bcbf899b4114598993136824332e3fb585f89e6722f552cde4441c3ac718b"
 },
 "nbformat": 3,
 "nbformat_minor": 0,
 "worksheets": [
  {
   "cells": [
    {
     "cell_type": "code",
     "collapsed": false,
     "input": [
      "import numpy as np\n",
      "import matplotlib.pyplot as plt"
     ],
     "language": "python",
     "metadata": {},
     "outputs": [],
     "prompt_number": 30
    },
    {
     "cell_type": "code",
     "collapsed": false,
     "input": [
      "L = 2000.0E3 #m\n",
      "dx = 1000.0 #m\n",
      "z = np.arange(0,L,dx)"
     ],
     "language": "python",
     "metadata": {},
     "outputs": [],
     "prompt_number": 34
    },
    {
     "cell_type": "code",
     "collapsed": false,
     "input": [
      "T0 = 20.0 #graus C\n",
      "K = 2 #W/m/k\n",
      "q0 = 0.05\n",
      "rho=2800.0 #Kg/m3\n",
      "H = 9.6E-10 #W/Kg\n",
      "\n",
      "T = T0 + q0*z/K - rho*H*z**2/(2*K)"
     ],
     "language": "python",
     "metadata": {},
     "outputs": [],
     "prompt_number": 35
    },
    {
     "cell_type": "code",
     "collapsed": false,
     "input": [
      "plt.plot(T,x/1000)\n",
      "plt.ylim(L/1000,0)\n",
      "plt.xlim()\n",
      "plt.xlabel(\"Temperatura \u00baC\")\n",
      "plt.ylabel(\"Profundidade (Km)\")"
     ],
     "language": "python",
     "metadata": {},
     "outputs": [
      {
       "metadata": {},
       "output_type": "pyout",
       "prompt_number": 39,
       "text": [
        "<matplotlib.text.Text at 0x7f525167ec50>"
       ]
      },
      {
       "metadata": {},
       "output_type": "display_data",
       "png": "[encoded data removed]",
       "text": [
        "<matplotlib.figure.Figure at 0x7f52516a9898>"
       ]
      }
     ],
     "prompt_number": 39
    },
    {
     "cell_type": "code",
     "collapsed": false,
     "input": [
      "z = np.arange(0,L,dx)\n",
      "qm = 25 #mW/m^2\n",
      "rhoH = 2.0E-6 #W/m3\n",
      "hr = 10.0E3 #m\n",
      "\n",
      "T = T0 + qm*z/K + (hr**2*rhoH/K)*(1.0-np.exp(-z/hr))\n",
      "\n",
      "plt.plot(T,x/1000)\n",
      "plt.ylim(L/1000,0)\n",
      "plt.xlim()\n",
      "plt.xlabel(\"Temperatura \u00baC\")\n",
      "plt.ylabel(\"Profundidade (Km)\")"
     ],
     "language": "python",
     "metadata": {},
     "outputs": [
      {
       "metadata": {},
       "output_type": "pyout",
       "prompt_number": 37,
       "text": [
        "<matplotlib.text.Text at 0x7f52518b65f8>"
       ]
      },
      {
       "metadata": {},
       "output_type": "display_data",
       "png": "[encoded data removed]",
       "text": [
        "<matplotlib.figure.Figure at 0x7f52518ada90>"
       ]
      }
     ],
     "prompt_number": 37
    },
    {
     "cell_type": "code",
     "collapsed": false,
     "input": [],
     "language": "python",
     "metadata": {},
     "outputs": [],
     "prompt_number": 37
    },
    {
     "cell_type": "code",
     "collapsed": false,
     "input": [],
     "language": "python",
     "metadata": {},
     "outputs": []
    }
   ],
   "metadata": {}
  }
 ]
}