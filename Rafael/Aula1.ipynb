{
 "metadata": {
  "name": "",
  "signature": "sha256:e006dcd20f32ce1e874dc0170811056f65e5a0e7188679bfc8ea22d529dc0fc1"
 },
 "nbformat": 3,
 "nbformat_minor": 0,
 "worksheets": [
  {
   "cells": [
    {
     "cell_type": "markdown",
     "metadata": {},
     "source": [
      "#Aula1\n",
      "\n",
      "Esta \u00e9 a primeira aula do curso\n",
      "$$\n",
      "integral x dx = x^2/2 + c\n",
      "$$\n",
      "integral, frac?"
     ]
    },
    {
     "cell_type": "code",
     "collapsed": false,
     "input": [
      "a = int(input(\"Digite o valor de a\"))\n",
      "b = int(input(\"Digite o valor de b\"))\n",
      "x = a + b\n",
      "print(\"O valor da soma \u00e9: \",x)"
     ],
     "language": "python",
     "metadata": {},
     "outputs": [
      {
       "name": "stdout",
       "output_type": "stream",
       "stream": "stdout",
       "text": [
        "Digite o valor de a3\n"
       ]
      },
      {
       "name": "stdout",
       "output_type": "stream",
       "stream": "stdout",
       "text": [
        "Digite o valor de b7\n"
       ]
      },
      {
       "output_type": "stream",
       "stream": "stdout",
       "text": [
        "O valor da soma \u00e9:  10\n"
       ]
      }
     ],
     "prompt_number": 3
    },
    {
     "cell_type": "code",
     "collapsed": false,
     "input": [
      "a = [1,3]\n",
      "b = [2,4]\n",
      "x = a + b\n",
      "print(x)"
     ],
     "language": "python",
     "metadata": {},
     "outputs": [
      {
       "output_type": "stream",
       "stream": "stdout",
       "text": [
        "[1, 3, 2, 4]\n"
       ]
      }
     ],
     "prompt_number": 4
    },
    {
     "cell_type": "code",
     "collapsed": false,
     "input": [
      "import numpy as np"
     ],
     "language": "python",
     "metadata": {},
     "outputs": [],
     "prompt_number": 26
    },
    {
     "cell_type": "code",
     "collapsed": false,
     "input": [
      "print(np.pi)"
     ],
     "language": "python",
     "metadata": {},
     "outputs": [
      {
       "output_type": "stream",
       "stream": "stdout",
       "text": [
        "3.141592653589793\n"
       ]
      }
     ],
     "prompt_number": 27
    },
    {
     "cell_type": "code",
     "collapsed": false,
     "input": [
      "a = np.array([1,3,5])\n",
      "b = np.array([2,4,6])\n",
      "x = a + b\n",
      "y = 2 * a\n",
      "print(x)\n",
      "print(y)"
     ],
     "language": "python",
     "metadata": {},
     "outputs": [
      {
       "output_type": "stream",
       "stream": "stdout",
       "text": [
        "[ 3  7 11]\n",
        "[ 2  6 10]\n"
       ]
      }
     ],
     "prompt_number": 28
    },
    {
     "cell_type": "code",
     "collapsed": false,
     "input": [
      "import matplotlib.pyplot as plt"
     ],
     "language": "python",
     "metadata": {},
     "outputs": [],
     "prompt_number": 29
    },
    {
     "cell_type": "code",
     "collapsed": false,
     "input": [
      "x = np.arange(1,10,0.5)\n",
      "y = np.sin(x)\n",
      "plt.plot(x,y,\"r-\")\n",
      "plt.plot(x,y,\"b.\")\n",
      "plt.ylim(-1.1,1.1)\n",
      "plt.xlim(0,11)\n",
      "plt.xlabel(\"Tempo ($s$)\",fontsize = 14)\n",
      "plt.ylabel(\"Amplitude ($A$)\",fontsize = 12)\n",
      "plt.grid()\n",
      "plt.show()\n",
      "plt.savefig(\"Figura_seno.png\")"
     ],
     "language": "python",
     "metadata": {},
     "outputs": [
      {
       "metadata": {},
       "output_type": "display_data",
       "png": "[encoded data removed]",
       "text": [
        "<matplotlib.figure.Figure at 0x7f1584b618d0>"
       ]
      },
      {
       "metadata": {},
       "output_type": "display_data",
       "text": [
        "<matplotlib.figure.Figure at 0x7f1584bff630>"
       ]
      }
     ],
     "prompt_number": 49
    },
    {
     "cell_type": "code",
     "collapsed": false,
     "input": [
      "t = np.arange(1,19,1)\n",
      "print(t)\n",
      "print(np.size(t))\n",
      "print(t[5])"
     ],
     "language": "python",
     "metadata": {},
     "outputs": [
      {
       "output_type": "stream",
       "stream": "stdout",
       "text": [
        "[ 1  2  3  4  5  6  7  8  9 10 11 12 13 14 15 16 17 18]\n",
        "18\n",
        "6\n"
       ]
      }
     ],
     "prompt_number": 56
    },
    {
     "cell_type": "code",
     "collapsed": false,
     "input": [],
     "language": "python",
     "metadata": {},
     "outputs": []
    }
   ],
   "metadata": {}
  }
 ]
}