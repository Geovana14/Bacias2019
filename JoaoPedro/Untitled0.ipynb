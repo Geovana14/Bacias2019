{
 "metadata": {
  "name": "",
  "signature": "sha256:bfc0587713a5dbb674142e1e911921bd4f463189920f1a05c268c853cd5af2c4"
 },
 "nbformat": 3,
 "nbformat_minor": 0,
 "worksheets": [
  {
   "cells": [
    {
     "cell_type": "markdown",
     "metadata": {},
     "source": [
      "deriva continental e placas \u00e9 \u00fanico do sistema solar"
     ]
    },
    {
     "cell_type": "markdown",
     "metadata": {},
     "source": [
      "Aula 02:\n",
      "\n",
      "- padr\u00e3o zebrado da crosta oce\u00e2nica\n",
      "- Mediterr\u00e2neo tem crosta anomalamente antiga (280 ma)\n",
      "- Configura\u00e7\u00e3o sismol\u00f3gica da subduc\u00e7\u00e3o das placas, mostra alinhamento de epicentros.\n",
      "- Transporte de calor pode ser por convec\u00e7\u00e3o, condu\u00e7\u00e3o ou radia\u00e7\u00e3o. Esta \u00faltima \u00e9 como o calor do sol chega.\n",
      "- No interior da Terra radia\u00e7\u00e3o n\u00e3o \u00e9 muito eficiente pq \u00e1tomos vizinhos absorvem r\u00e1pido, ent\u00e3o o que rola mais \u00e9 condu\u00e7\u00e3o e convec\u00e7\u00e3o.\n",
      "- Motor da Terra \u00e9 a gravidade indo pro centro da Terra e calor indo pra fora, esse ciclo \u00e9 o que move as placas.\n",
      "- Parte do calor vem dos prim\u00f3rdios da forma\u00e7\u00e3o do planeta. Quando as colis\u00f5es inel\u00e1sticas transformam energia cin\u00e9tica em sonora e t\u00e9rmica. Planetas orbitam e limpam a poeira gerada pelo surgimento da estrela.\n",
      "- oNDA S s\u00f3 \u00e9 transmitida em s\u00f3lidos. N\u00e3o propaga no n\u00facleo externo. Como as placas sofrem subduc\u00e7\u00e3o ent\u00e3o?\n",
      "- a energia da onda S \u00e9 transmitida para outro tipo no n\u00facleo externo e depois volta a ser S no n\u00facleo interno.\n",
      "- Viscosidade: qu\u00e3o viscoso \u00e9 o manto?\n",
      "- Ajuste p\u00f3s glacial: \u00faltimo per\u00edodo glacial foi a 20 mil anos e depois foi retirado essa carga, ou seja, o continente t\u00e1 subindo. Se vc sabe com que taxa o mel est\u00e1 subindo vc sabe o qu\u00e3o viscoso ele \u00e9.  No p\u00f3s glacial a carga de gelo foi retirada rapidamente.\n",
      "- Datou-se cord\u00f5es litor\u00e2neos da Noruega com bioclastos e a\u00ed calcularam moodelo pra viscosidade que daria esse uplift do continente.\n",
      "- Manto \u00e9 muuito muito viscoso e por isso n\u00e3o vemos ele como fluido na nossa escala de tempo, s\u00f3 no geol\u00f3gico.\n",
      "- s\u00f3lidos tem viscosidade????\n",
      "- Instabilidaade de Rayleigh-Taylor: fluxo de part\u00edculas voltando pro centro da estrela; l\u00edquido menos denso em baixo com o l\u00edquido mais denso. Na terra o movimento que gera o movimento \u00e9 sim a instabilidade de Rayleigh e Taylor.\n",
      "- N\u00famero de Rayleigh: diz como um fluido se comporta - relacional gravidade, coeficiente de dilata\u00e7\u00e3o, temperatura, difusividade etc.Esse n\u00famero \u00e9 o que define o regime de um determinado fluido.\n",
      "- Quanto maior o n\u00famero de Rayleigh mais f\u00e1cil ser\u00e1 dar in\u00edcio \u00e0 convec\u00e7\u00e3o, o que \u00e9 evitado por alta viscosidade como mostra a f\u00f3rumla. \n",
      "- Gr\u00e1fico de instabilidade com o n\u00famero do Rayleigh: regime inst\u00e1vel tem convenc\u00e7\u00e3o e o est\u00e1vel n\u00e3o. Terra tem valor de n\u00famero de Rayleigh muito alto (como calculamos no python).\n",
      "- Embora o n\u00famero de Rayleigh seja menor para o conte\u00fado radiog\u00eanico o manto tem maior espessura 700 km por isso gera tanto calor.\n",
      "- Imperfei\u00e7\u00f5es nos cristais (vac\u00e2ncias etc) fazem com que ao aplicar tens\u00e3o os \u00e1tomos se movimentam e rola um creep.\n",
      "\n",
      "Aula 03:\n",
      "\n",
      "- temperatura e press\u00e3o influenciam na viscosidade do manto \n",
      "- quanto mais viscoso (ex: manto inferior) maior o tamanho das c\u00e9lulas de convec\u00e7\u00e3o\n",
      "- creep\n",
      "- litosphere transporta calor por condu\u00e7\u00e3o t\u00e9rmica predominantemente, j\u00e1 na astenosfera tem advec\u00e7\u00e3o + conduc\u00e7\u00e3o.\n",
      "- q representa o fluxo de calor que \u00e9 fun\u00e7\u00e3o da condutividade t\u00e9rmica vezes o gradiente de temperatura.\n",
      "- condutividade \u00e9 assumida como isotr\u00f3pico para as nossas aplica\u00e7\u00f5es.\n",
      "- a condu\u00e7\u00e3o de calor segue uma equa\u00e7\u00e3o de difus\u00e3o, que pode ser aplicada para diferentes \u00e1reas da ci\u00eancia\n",
      "- difus\u00e3o: tend\u00eancia \u00e9 que as part\u00edculas se dispersem para uniformizar a concentra\u00e7\u00e3o.\n",
      "- Primeira Lei de Fick: difus\u00e3o para a quest\u00e3o de condu\u00e7\u00e3o de calor segue esta lei.\n",
      "- capacidade t\u00e9rmica depende n\u00e3o s\u00f3 do tipo de material como tamb\u00e9m da quantidade deste material\n",
      "- a partir da dedu\u00e7\u00e3o da equa\u00e7\u00e3o de difus\u00e3o tem-se que para 1D:\n",
      "- n\u00e3o havendo mudan\u00e7a de temp haveria regime estacion\u00e1rio, que \u00e9 o contr\u00e1rio de transiente.\n",
      "- no caso do calor radiog\u00eanico este n\u00e3o \u00e9 constante em todo percurso, ele \u00e9 maior na crosta superior e por isso temos que ajustar o modelo.\n",
      "- para o modelo ajustado com H variando assumimos que no infinito temos s\u00f3 o qm que \u00e9 o fluxo t\u00e9rmico do manto.\n",
      "- em m\u00e9dia metade do calor que chega na superf\u00edcie \u00e9 do manto e o resto \u00e9 produzido na crosta continental. \u00e9 tipo 25 e 25.\n",
      "- ao estudar litosfera oce\u00e2nica n\u00e3o podemos desconsiderar varia\u00e7\u00e3o de temp no tempo, mas no caso do calor radiog\u00eanico \u00e9 muito baixo.\n",
      "- o kappa (K) que \u00e9 difusividade t\u00e9rmica \u00e9 quase constante na terra.\n",
      "\n",
      "Aula 04:\n",
      "\n",
      "- Solu\u00e7\u00f5es num\u00e9ricas: Diferen\u00e7as Finitas\n",
      "- neste m\u00e9todo assume-se que que o valor do limite, ou seja, da derivada \u00e9 realmente uma diferen\u00e7a finita entre dois pontos.\n",
      "- Condi\u00e7\u00e3o de contorno: pode assumir que os valores de extremidade s\u00e3o constantes e n\u00e3o variam no espa\u00e7o.\n",
      "- Formula\u00e7\u00e3o expl\u00edcita: termos associados ao deslocamento, por exemplo, no presente numa igualdade onde \u00e9 poss\u00edvel relacion\u00e1-los com o valor no futuro (vide slide).\n",
      "- olhar foto da concep\u00e7\u00e3o do modelo de diferen\u00e7as finitas para a crosta oce\u00e2nica\n",
      "- para selecionar em um vetor mais de um n\u00famero tem que usar o : para definir qual \u00e9 o item inicial e qual \u00e9 o final. Se vc quiser incluir o \u00faltimo termo do vetor vc deixa em branco depois dos :\n",
      "- pontos centrais: x[1:-1]; vizinhis da esquerda: x[0:-2]=x[:-2]; vizinhos da direita x[2:]\n",
      "\n"
     ]
    }
   ],
   "metadata": {}
  }
 ]
}