{
 "metadata": {
  "name": "",
  "signature": "sha256:6570116e3d4302edcec2253073789981ab69e781a9c6fae61e713439fc596c27"
 },
 "nbformat": 3,
 "nbformat_minor": 0,
 "worksheets": [
  {
   "cells": [
    {
     "cell_type": "code",
     "collapsed": false,
     "input": [
      "import numpy as np\n",
      "import matplotlib.pyplot as plt"
     ],
     "language": "python",
     "metadata": {},
     "outputs": [],
     "prompt_number": 1
    },
    {
     "cell_type": "code",
     "collapsed": false,
     "input": [
      "L = 200.0E3 #m\n",
      "dx=1000.0 #m\n",
      "x=np.arange(0,L,dx)"
     ],
     "language": "python",
     "metadata": {},
     "outputs": [],
     "prompt_number": 3
    },
    {
     "cell_type": "code",
     "collapsed": false,
     "input": [
      "T0 = 20.0 #graus C\n",
      "k= 2 #W/m/K\n",
      "q0=0.050 #W/m2\n",
      "rho=2800.0 #\n",
      "H=9.6E-10\n",
      "\n",
      "\n",
      "T = T0 + q0*x/k - (rho*H)*x**2/(2*k)"
     ],
     "language": "python",
     "metadata": {},
     "outputs": [],
     "prompt_number": 4
    },
    {
     "cell_type": "code",
     "collapsed": false,
     "input": [
      "plt.plot(T,x/1000)\n",
      "plt.ylim(L/1000,0)\n",
      "plt.xlabel(\"Temperatura ($^\\circ$C)\")\n",
      "plt.xlabel (\"Profunidade (km)\")"
     ],
     "language": "python",
     "metadata": {},
     "outputs": [
      {
       "metadata": {},
       "output_type": "pyout",
       "prompt_number": 5,
       "text": [
        "<matplotlib.text.Text at 0x7fe486d7f5f8>"
       ]
      },
      {
       "metadata": {},
       "output_type": "display_data",
       "png": "[encoded data removed]",
       "text": [
        "<matplotlib.figure.Figure at 0x7fe486da47f0>"
       ]
      }
     ],
     "prompt_number": 5
    },
    {
     "cell_type": "code",
     "collapsed": false,
     "input": [
      "z=np.arange(0,L,dx)\n",
      "qm=0.025 #W/m2\n",
      "rhoH=2.0E-6 #W/m3\n",
      "hr=10.0E3 #m\n",
      "\n",
      "\n",
      "T=T0+qm*z/k + (hr**2*rhoH/k)*(1.0-np.exp(-z/hr))\n",
      "\n",
      "plt.plot(T,z/1000)\n",
      "plt.ylim(L/1000,0)\n",
      "plt.xlabel(\"Temperatura ($^\\circ$C)\")\n",
      "plt.ylabel(\"Profundidade (km)\")"
     ],
     "language": "python",
     "metadata": {},
     "outputs": [
      {
       "metadata": {},
       "output_type": "pyout",
       "prompt_number": 6,
       "text": [
        "<matplotlib.text.Text at 0x7fe484ca4278>"
       ]
      },
      {
       "metadata": {},
       "output_type": "display_data",
       "png": "[encoded data removed]",
       "text": [
        "<matplotlib.figure.Figure at 0x7fe486d91278>"
       ]
      }
     ],
     "prompt_number": 6
    },
    {
     "cell_type": "markdown",
     "metadata": {},
     "source": [
      "este modelo vale para os primeiros 100 km pq ao chegar na astenosfera muda muito pouco. Esta pequena mudan\u00e7a a partir da astenos deve-se \u00e0 convec\u00e7\u00e3o de calor, que n\u00e3o ocorre para a litosfera. O que fizemos acima serve s\u00f3 para litosfera continental."
     ]
    }
   ],
   "metadata": {}
  }
 ]
}