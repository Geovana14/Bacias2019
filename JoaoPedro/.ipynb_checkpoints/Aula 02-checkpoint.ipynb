{
 "metadata": {
  "name": "",
  "signature": "sha256:952bf64892056ff85439e3401ab7279c09d9cfdd0e98bb12f8b767180da66336"
 },
 "nbformat": 3,
 "nbformat_minor": 0,
 "worksheets": [
  {
   "cells": [
    {
     "cell_type": "code",
     "collapsed": false,
     "input": [
      "%ls\n"
     ],
     "language": "python",
     "metadata": {},
     "outputs": [
      {
       "output_type": "stream",
       "stream": "stdout",
       "text": [
        "Aula 02.ipynb  Aula 1.ipynb  densidade.txt\r\n"
       ]
      }
     ],
     "prompt_number": 1
    },
    {
     "cell_type": "code",
     "collapsed": false,
     "input": [
      "%cat densidade.txt\n"
     ],
     "language": "python",
     "metadata": {},
     "outputs": [
      {
       "output_type": "stream",
       "stream": "stdout",
       "text": [
        "Radius Depth  Density\r\n",
        "(km)   (km)   (kg/m3)\r\n",
        "3480.0 2891.0 5566.5\r\n",
        "3500.0 2871.0 5556.4 \r\n",
        "3600.0 2771.0 5506.4 \r\n",
        "3700.0 2671.0 5456.6 \r\n",
        "3800.0 2571.0 5406.8 \r\n",
        "3900.0 2471.0 5357.1 \r\n",
        "4000.0 2371.0 5307.3 \r\n",
        "4100.0 2271.0 5257.3 \r\n",
        "4200.0 2171.0 5207.2 \r\n",
        "4300.0 2071.0 5156.7 \r\n",
        "4400.0 1971.0 5105.9 \r\n",
        "4500.0 1871.0 5054.7 \r\n",
        "4600.0 1771.0 5003.0 "
       ]
      },
      {
       "output_type": "stream",
       "stream": "stdout",
       "text": [
        "\r\n",
        "4700.0 1671.0 4950.8 \r\n",
        "4800.0 1571.0 4897.9 \r\n",
        "4900.0 1471.0 4844.3 \r\n",
        "5000.0 1371.0 4789.9 \r\n",
        "5100.0 1271.0 4734.6 \r\n",
        "5200.0 1171.0 4678.5 \r\n",
        "5300.0 1071.0 4621.3 \r\n",
        "5400.0 971.0 4563.1 \r\n",
        "5500.0 871.0 4503.8 \r\n",
        "5600.0 771.0 4443.2 \r\n",
        "5701.0 670.0 4380.7 \r\n",
        "5701.0 670.0 3992.1 \r\n",
        "5800.0 571.0 3939.3 \r\n",
        "5900.0 471.0 3813.2 \r\n",
        "5971.0 400.0 3723.7 \r\n",
        "5971.0 400.0 3543.3 \r\n",
        "6000.0 371.0 3525.9 \r\n",
        "6100.0 271.0 3466.2 \r\n",
        "6151.0 220.0 3435.8 \r\n",
        "6151.0 220.0 3359.5 \r\n",
        "6200.0 171.0 3364.8 \r\n",
        "6300.0 71.0 3375.7 \r\n",
        "6346.6 24.4 3380.7 \r\n",
        "6346.6 24.4 2900.0 \r\n",
        "6356.0 15.0 2900.0 \r\n",
        "6356.0 15.0 2600.0 \r\n",
        "6368.0 3.0 2600.0 \r\n",
        "6368.0 3.0 1020.0 \r\n",
        "6371.0 0.0 1020.0"
       ]
      }
     ],
     "prompt_number": 2
    },
    {
     "cell_type": "code",
     "collapsed": false,
     "input": [
      "import numpy as np"
     ],
     "language": "python",
     "metadata": {},
     "outputs": [],
     "prompt_number": 3
    },
    {
     "cell_type": "code",
     "collapsed": false,
     "input": [
      "import matplotlib.pyplot as plt\n"
     ],
     "language": "python",
     "metadata": {},
     "outputs": [],
     "prompt_number": 4
    },
    {
     "cell_type": "code",
     "collapsed": false,
     "input": [
      "#%cat densidade.txt\n",
      "A=np.loadtxt(\"densidade.txt\", skiprows=2)"
     ],
     "language": "python",
     "metadata": {},
     "outputs": [],
     "prompt_number": 5
    },
    {
     "cell_type": "code",
     "collapsed": false,
     "input": [
      "print(A)"
     ],
     "language": "python",
     "metadata": {},
     "outputs": [
      {
       "output_type": "stream",
       "stream": "stdout",
       "text": [
        "[[  3.48000000e+03   2.89100000e+03   5.56650000e+03]\n",
        " [  3.50000000e+03   2.87100000e+03   5.55640000e+03]\n",
        " [  3.60000000e+03   2.77100000e+03   5.50640000e+03]\n",
        " [  3.70000000e+03   2.67100000e+03   5.45660000e+03]\n",
        " [  3.80000000e+03   2.57100000e+03   5.40680000e+03]\n",
        " [  3.90000000e+03   2.47100000e+03   5.35710000e+03]\n",
        " [  4.00000000e+03   2.37100000e+03   5.30730000e+03]\n",
        " [  4.10000000e+03   2.27100000e+03   5.25730000e+03]\n",
        " [  4.20000000e+03   2.17100000e+03   5.20720000e+03]\n",
        " [  4.30000000e+03   2.07100000e+03   5.15670000e+03]\n",
        " [  4.40000000e+03   1.97100000e+03   5.10590000e+03]\n",
        " [  4.50000000e+03   1.87100000e+03   5.05470000e+03]\n",
        " [  4.60000000e+03   1.77100000e+03   5.00300000e+03]\n",
        " [  4.70000000e+03   1.67100000e+03   4.95080000e+03]\n",
        " [  4.80000000e+03   1.57100000e+03   4.89790000e+03]\n",
        " [  4.90000000e+03   1.47100000e+03   4.84430000e+03]\n",
        " [  5.00000000e+03   1.37100000e+03   4.78990000e+03]\n",
        " [  5.10000000e+03   1.27100000e+03   4.73460000e+03]\n",
        " [  5.20000000e+03   1.17100000e+03   4.67850000e+03]\n",
        " [  5.30000000e+03   1.07100000e+03   4.62130000e+03]\n",
        " [  5.40000000e+03   9.71000000e+02   4.56310000e+03]\n",
        " [  5.50000000e+03   8.71000000e+02   4.50380000e+03]\n",
        " [  5.60000000e+03   7.71000000e+02   4.44320000e+03]\n",
        " [  5.70100000e+03   6.70000000e+02   4.38070000e+03]\n",
        " [  5.70100000e+03   6.70000000e+02   3.99210000e+03]\n",
        " [  5.80000000e+03   5.71000000e+02   3.93930000e+03]\n",
        " [  5.90000000e+03   4.71000000e+02   3.81320000e+03]\n",
        " [  5.97100000e+03   4.00000000e+02   3.72370000e+03]\n",
        " [  5.97100000e+03   4.00000000e+02   3.54330000e+03]\n",
        " [  6.00000000e+03   3.71000000e+02   3.52590000e+03]\n",
        " [  6.10000000e+03   2.71000000e+02   3.46620000e+03]\n",
        " [  6.15100000e+03   2.20000000e+02   3.43580000e+03]\n",
        " [  6.15100000e+03   2.20000000e+02   3.35950000e+03]\n",
        " [  6.20000000e+03   1.71000000e+02   3.36480000e+03]\n",
        " [  6.30000000e+03   7.10000000e+01   3.37570000e+03]\n",
        " [  6.34660000e+03   2.44000000e+01   3.38070000e+03]\n",
        " [  6.34660000e+03   2.44000000e+01   2.90000000e+03]\n",
        " [  6.35600000e+03   1.50000000e+01   2.90000000e+03]\n",
        " [  6.35600000e+03   1.50000000e+01   2.60000000e+03]\n",
        " [  6.36800000e+03   3.00000000e+00   2.60000000e+03]\n",
        " [  6.36800000e+03   3.00000000e+00   1.02000000e+03]\n",
        " [  6.37100000e+03   0.00000000e+00   1.02000000e+03]]\n"
       ]
      }
     ],
     "prompt_number": 6
    },
    {
     "cell_type": "code",
     "collapsed": false,
     "input": [
      "r,p,d=np.loadtxt(\"densidade.txt\", skiprows=2, unpack=True)"
     ],
     "language": "python",
     "metadata": {},
     "outputs": [],
     "prompt_number": 7
    },
    {
     "cell_type": "code",
     "collapsed": false,
     "input": [
      "plt.plot (d,p)\n",
      "plt.xlabel(\"densidade (kg/m$^3$)\")\n",
      "plt.ylabel(\"profundidade (km)\")"
     ],
     "language": "python",
     "metadata": {},
     "outputs": [
      {
       "metadata": {},
       "output_type": "pyout",
       "prompt_number": 9,
       "text": [
        "<matplotlib.text.Text at 0x7feee83aacf8>"
       ]
      },
      {
       "metadata": {},
       "output_type": "display_data",
       "png": "[encoded data removed]",
       "text": [
        "<matplotlib.figure.Figure at 0x7feeea4306d8>"
       ]
      }
     ],
     "prompt_number": 9
    },
    {
     "cell_type": "code",
     "collapsed": false,
     "input": [
      "plt.plot (d,p)\n",
      "plt.xlabel(\"densidade (kg/m$^3$)\")\n",
      "plt.ylabel(\"profundidade (km)\")\n",
      "plt.ylim(3000,-50)"
     ],
     "language": "python",
     "metadata": {},
     "outputs": [
      {
       "metadata": {},
       "output_type": "pyout",
       "prompt_number": 10,
       "text": [
        "(3000, -50)"
       ]
      },
      {
       "metadata": {},
       "output_type": "display_data",
       "png": "[encoded data removed]",
       "text": [
        "<matplotlib.figure.Figure at 0x7feee8363f28>"
       ]
      }
     ],
     "prompt_number": 10
    },
    {
     "cell_type": "code",
     "collapsed": false,
     "input": [
      "rho=4000.0 #densidade (kg/m3)\n",
      "g=10.0 #m/s2\n",
      "alpha= 3.0E-5 #coeficiente de expans\u00e3o volum\u00e9trica em 1/K. E indica nota\u00e7\u00e3o cient\u00edfica.\n",
      "DeltaT= 2000.0 #contraste de temperatura (K)\n",
      "b= 700000.0 #ESPESSURA DO MANTO SUPERIOR\n",
      "visc= 1.0E21 #VISCOSIDADE(Pa/s)\n",
      "kappa= 1.0E-6 #difusidade t\u00e9rmica (m2/s)\n",
      "H=9.0E-12 #produ\u00e7\u00e3o de calor radiog\u00eanico (W/kg)\n",
      "k= 4.0 #condutividade t\u00e9rmica (W/m/K)\n",
      "\n",
      "#sempre que n\u00e3o \u00e9 contador (n\u00famero inteiro) adiciona ponto depois do n\u00famero\n",
      "\n",
      "Ra1= (rho*g*alpha*DeltaT*b**3)/(visc*kappa) #valor por diferen\u00e7a de temp\n",
      "Ra2= (alpha*rho**2*g*H*b**5)/(k*visc*kappa) #valor por produ\u00e7\u00e3o de calor radiog\u00eanico\n",
      "\n",
      "print (Ra1, Ra2)"
     ],
     "language": "python",
     "metadata": {},
     "outputs": [
      {
       "output_type": "stream",
       "stream": "stdout",
       "text": [
        "823200.0 1815156.0000000002\n"
       ]
      }
     ],
     "prompt_number": 12
    },
    {
     "cell_type": "code",
     "collapsed": false,
     "input": [],
     "language": "python",
     "metadata": {},
     "outputs": []
    }
   ],
   "metadata": {}
  }
 ]
}