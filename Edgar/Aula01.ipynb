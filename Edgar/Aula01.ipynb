{
 "metadata": {
  "name": "",
  "signature": "sha256:be05aa4bea41216df13488c385617afb2906d86db31897ccc2a849bf6a860375"
 },
 "nbformat": 3,
 "nbformat_minor": 0,
 "worksheets": [
  {
   "cells": [
    {
     "cell_type": "markdown",
     "metadata": {},
     "source": [
      "#Aula 1\n",
      "\n",
      "Primeira aula do curso\n",
      "\n",
      "$$\n",
      "\\int x dx = \\frac{x^2}{2} + C\n",
      "$$"
     ]
    },
    {
     "cell_type": "code",
     "collapsed": false,
     "input": [
      "a = 2.0\n",
      "b = 3\n",
      "c = \"carro\"\n",
      "x = a+b\n",
      "\n",
      "print(\"x = \",x)"
     ],
     "language": "python",
     "metadata": {},
     "outputs": [
      {
       "output_type": "stream",
       "stream": "stdout",
       "text": [
        "x =  5.0\n"
       ]
      }
     ],
     "prompt_number": 8
    },
    {
     "cell_type": "code",
     "collapsed": false,
     "input": [
      "a = [1,2]\n",
      "b = [3,4]\n",
      "\n",
      "x = a +b\n",
      "\n",
      "print(x)"
     ],
     "language": "python",
     "metadata": {},
     "outputs": [
      {
       "output_type": "stream",
       "stream": "stdout",
       "text": [
        "[1, 2, 3, 4]\n"
       ]
      }
     ],
     "prompt_number": 9
    },
    {
     "cell_type": "code",
     "collapsed": false,
     "input": [
      "import numpy as np"
     ],
     "language": "python",
     "metadata": {},
     "outputs": [],
     "prompt_number": 10
    },
    {
     "cell_type": "code",
     "collapsed": false,
     "input": [
      "a =  np.array([1,2,5])\n",
      "b = np.array([3,4,4])\n",
      "\n",
      "x = a+b\n",
      "y = 2*a\n",
      "\n",
      "print(x)\n",
      "print(y)"
     ],
     "language": "python",
     "metadata": {},
     "outputs": [
      {
       "output_type": "stream",
       "stream": "stdout",
       "text": [
        "[4 6 9]\n",
        "[ 2  4 10]\n"
       ]
      }
     ],
     "prompt_number": 17
    },
    {
     "cell_type": "code",
     "collapsed": false,
     "input": [
      "x = np.array([1,2,3,4,5,6,7,8,9,10])\n",
      "y = np.sin(x)\n",
      "print(y)"
     ],
     "language": "python",
     "metadata": {},
     "outputs": [
      {
       "output_type": "stream",
       "stream": "stdout",
       "text": [
        "[ 0.84147098  0.90929743  0.14112001 -0.7568025  -0.95892427 -0.2794155\n",
        "  0.6569866   0.98935825  0.41211849 -0.54402111]\n"
       ]
      }
     ],
     "prompt_number": 19
    },
    {
     "cell_type": "code",
     "collapsed": false,
     "input": [
      "x = np.arange(100)\n",
      "print(x)"
     ],
     "language": "python",
     "metadata": {},
     "outputs": [
      {
       "output_type": "stream",
       "stream": "stdout",
       "text": [
        "[ 0  1  2  3  4  5  6  7  8  9 10 11 12 13 14 15 16 17 18 19 20 21 22 23 24\n",
        " 25 26 27 28 29 30 31 32 33 34 35 36 37 38 39 40 41 42 43 44 45 46 47 48 49\n",
        " 50 51 52 53 54 55 56 57 58 59 60 61 62 63 64 65 66 67 68 69 70 71 72 73 74\n",
        " 75 76 77 78 79 80 81 82 83 84 85 86 87 88 89 90 91 92 93 94 95 96 97 98 99]\n"
       ]
      }
     ],
     "prompt_number": 21
    },
    {
     "cell_type": "code",
     "collapsed": false,
     "input": [
      "y = np.cos(x)\n",
      "print(y)"
     ],
     "language": "python",
     "metadata": {},
     "outputs": [
      {
       "output_type": "stream",
       "stream": "stdout",
       "text": [
        "[ 1.          0.54030231 -0.41614684 -0.9899925  -0.65364362  0.28366219\n",
        "  0.96017029  0.75390225 -0.14550003 -0.91113026 -0.83907153  0.0044257\n",
        "  0.84385396  0.90744678  0.13673722 -0.75968791 -0.95765948 -0.27516334\n",
        "  0.66031671  0.98870462  0.40808206 -0.54772926 -0.99996083 -0.53283302\n",
        "  0.42417901  0.99120281  0.64691932 -0.29213881 -0.96260587 -0.74805753\n",
        "  0.15425145  0.91474236  0.83422336 -0.01327675 -0.84857027 -0.90369221\n",
        " -0.12796369  0.76541405  0.95507364  0.26664293 -0.66693806 -0.98733928\n",
        " -0.39998531  0.5551133   0.99984331  0.52532199 -0.43217794 -0.99233547\n",
        " -0.64014434  0.30059254  0.96496603  0.7421542  -0.16299078 -0.91828279\n",
        " -0.82930983  0.02212676  0.85322011  0.89986683  0.11918014 -0.77108022\n",
        " -0.95241298 -0.25810164  0.67350716  0.98589658  0.39185723 -0.56245385\n",
        " -0.99964746 -0.5177698   0.44014302  0.99339038  0.6333192  -0.30902273\n",
        " -0.96725059 -0.73619272  0.17171734  0.92175127  0.82433133 -0.03097503\n",
        " -0.85780309 -0.89597095 -0.11038724  0.77668598  0.9496777   0.24954012\n",
        " -0.6800235  -0.98437664 -0.38369844  0.56975033  0.99937328  0.51017704\n",
        " -0.44807362 -0.99436746 -0.62644445  0.3174287   0.96945937  0.73017356\n",
        " -0.18043045 -0.92514754 -0.81928825  0.03982088]\n"
       ]
      }
     ],
     "prompt_number": 22
    },
    {
     "cell_type": "code",
     "collapsed": false,
     "input": [
      "x = np.arange(0,10,0.1)\n",
      "y = np.sin(x)"
     ],
     "language": "python",
     "metadata": {},
     "outputs": [],
     "prompt_number": 23
    },
    {
     "cell_type": "code",
     "collapsed": false,
     "input": [
      "import matplotlib.pyplot as plt"
     ],
     "language": "python",
     "metadata": {},
     "outputs": [],
     "prompt_number": 25
    },
    {
     "cell_type": "code",
     "collapsed": false,
     "input": [
      "plt.plot(x,y,'r.-')\n",
      "plt.ylim(-1.1,1.1)\n",
      "plt.xlabel('$x$')\n",
      "plt.ylabel('$y = \\sin(x)$',fontsize=14)\n",
      "plt.grid('on')\n",
      "plt.savefig(\"Figura_seno.png\")"
     ],
     "language": "python",
     "metadata": {},
     "outputs": [
      {
       "metadata": {},
       "output_type": "display_data",
       "png": "[encoded data removed]",
       "text": [
        "<matplotlib.figure.Figure at 0x7f489d896518>"
       ]
      }
     ],
     "prompt_number": 35
    },
    {
     "cell_type": "code",
     "collapsed": false,
     "input": [
      "%ls"
     ],
     "language": "python",
     "metadata": {},
     "outputs": [
      {
       "output_type": "stream",
       "stream": "stdout",
       "text": [
        "Aula01.ipynb  \u001b[0m\u001b[01;35mFigura_seno.png\u001b[0m\r\n"
       ]
      }
     ],
     "prompt_number": 36
    },
    {
     "cell_type": "code",
     "collapsed": false,
     "input": [
      "t = np.arange(2,5,1)\n",
      "print(t)"
     ],
     "language": "python",
     "metadata": {},
     "outputs": [
      {
       "output_type": "stream",
       "stream": "stdout",
       "text": [
        "[2 3 4]\n"
       ]
      }
     ],
     "prompt_number": 37
    },
    {
     "cell_type": "code",
     "collapsed": false,
     "input": [
      "np.size(t)"
     ],
     "language": "python",
     "metadata": {},
     "outputs": [
      {
       "metadata": {},
       "output_type": "pyout",
       "prompt_number": 38,
       "text": [
        "3"
       ]
      }
     ],
     "prompt_number": 38
    },
    {
     "cell_type": "code",
     "collapsed": false,
     "input": [
      "t[0]"
     ],
     "language": "python",
     "metadata": {},
     "outputs": [
      {
       "metadata": {},
       "output_type": "pyout",
       "prompt_number": 39,
       "text": [
        "2"
       ]
      }
     ],
     "prompt_number": 39
    },
    {
     "cell_type": "code",
     "collapsed": false,
     "input": [
      "z = np.zeros((5,5))"
     ],
     "language": "python",
     "metadata": {},
     "outputs": [],
     "prompt_number": 40
    },
    {
     "cell_type": "code",
     "collapsed": false,
     "input": [
      "print(z)"
     ],
     "language": "python",
     "metadata": {},
     "outputs": [
      {
       "output_type": "stream",
       "stream": "stdout",
       "text": [
        "[[ 0.  0.  0.  0.  0.]\n",
        " [ 0.  0.  0.  0.  0.]\n",
        " [ 0.  0.  0.  0.  0.]\n",
        " [ 0.  0.  0.  0.  0.]\n",
        " [ 0.  0.  0.  0.  0.]]\n"
       ]
      }
     ],
     "prompt_number": 41
    },
    {
     "cell_type": "code",
     "collapsed": false,
     "input": [
      "z[2][1] = 4.5"
     ],
     "language": "python",
     "metadata": {},
     "outputs": [],
     "prompt_number": 42
    },
    {
     "cell_type": "code",
     "collapsed": false,
     "input": [
      "print(z)"
     ],
     "language": "python",
     "metadata": {},
     "outputs": [
      {
       "output_type": "stream",
       "stream": "stdout",
       "text": [
        "[[ 0.   0.   0.   0.   0. ]\n",
        " [ 0.   0.   0.   0.   0. ]\n",
        " [ 0.   4.5  0.   0.   0. ]\n",
        " [ 0.   0.   0.   0.   0. ]\n",
        " [ 0.   0.   0.   0.   0. ]]\n"
       ]
      }
     ],
     "prompt_number": 43
    },
    {
     "cell_type": "code",
     "collapsed": false,
     "input": [],
     "language": "python",
     "metadata": {},
     "outputs": []
    }
   ],
   "metadata": {}
  }
 ]
}