{
 "metadata": {
  "name": "",
  "signature": "sha256:211aa9c849664dbe498ba3227f77c964f8cc0f9af53d0caa9490b39f385b3b66"
 },
 "nbformat": 3,
 "nbformat_minor": 0,
 "worksheets": [
  {
   "cells": [
    {
     "cell_type": "code",
     "collapsed": false,
     "input": [
      "import numpy as np\n",
      "import matplotlib.pyplot as plt"
     ],
     "language": "python",
     "metadata": {},
     "outputs": [],
     "prompt_number": 1
    },
    {
     "cell_type": "code",
     "collapsed": false,
     "input": [
      "t = 0\n",
      "t_max = 10\n",
      "dt = 1\n",
      "\n",
      "while t < t_max:\n",
      "    t = t + dt"
     ],
     "language": "python",
     "metadata": {},
     "outputs": []
    }
   ],
   "metadata": {}
  }
 ]
}