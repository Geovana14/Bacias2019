{
 "metadata": {
  "name": "",
  "signature": "sha256:dfd53571b3fa283c64683402e4ab6a5620679ef0a7989707d255d1862f84af56"
 },
 "nbformat": 3,
 "nbformat_minor": 0,
 "worksheets": [
  {
   "cells": [
    {
     "cell_type": "code",
     "collapsed": false,
     "input": [
      "import numpy as np\n",
      "import matplotlib.pyplot as plt"
     ],
     "language": "python",
     "metadata": {},
     "outputs": [],
     "prompt_number": 1
    },
    {
     "cell_type": "code",
     "collapsed": false,
     "input": [
      "L=200.0E3\n",
      "dx=1000.0\n",
      "\n",
      "x = np.arange(0,L,dx)"
     ],
     "language": "python",
     "metadata": {},
     "outputs": [],
     "prompt_number": 9
    },
    {
     "cell_type": "code",
     "collapsed": false,
     "input": [
      "H =9.6E-10\n",
      "rho=2800.0\n",
      "T0=20\n",
      "q0= 0.050\n",
      "k=2.0\n",
      "\n",
      "T = T0 +q0*x/k - (rho*H)*x**2/(2*k)"
     ],
     "language": "python",
     "metadata": {},
     "outputs": [],
     "prompt_number": 13
    },
    {
     "cell_type": "code",
     "collapsed": false,
     "input": [
      "plt.plot(T,x/1000)\n",
      "plt.ylim(L/1000,0)\n",
      "plt.xlabel(\"Temperatura\")\n",
      "plt.ylabel(\"Profundidade\")"
     ],
     "language": "python",
     "metadata": {},
     "outputs": [
      {
       "metadata": {},
       "output_type": "pyout",
       "prompt_number": 14,
       "text": [
        "<matplotlib.text.Text at 0x7ff065985358>"
       ]
      },
      {
       "metadata": {},
       "output_type": "display_data",
       "png": "[encoded data removed]",
       "text": [
        "<matplotlib.figure.Figure at 0x7ff06599d5f8>"
       ]
      }
     ],
     "prompt_number": 14
    },
    {
     "cell_type": "code",
     "collapsed": false,
     "input": [
      "rhoH=2.0E-6\n",
      "hr=10.0E3\n",
      "T0=20\n",
      "qm= 0.025\n",
      "k=2.0\n",
      "z=np.arange(0,L,dx)\n",
      "\n",
      "T1 = T0 +qm*z/k + (hr**2*rhoH/k)*(1.0 - np.exp(-z/hr))"
     ],
     "language": "python",
     "metadata": {},
     "outputs": [],
     "prompt_number": 25
    },
    {
     "cell_type": "code",
     "collapsed": false,
     "input": [
      "plt.plot(T1,z/1000)\n",
      "plt.ylim(L/1000,0)\n",
      "plt.xlabel(\"Temperatura\")\n",
      "plt.ylabel(\"Profundidade\")"
     ],
     "language": "python",
     "metadata": {},
     "outputs": [
      {
       "metadata": {},
       "output_type": "pyout",
       "prompt_number": 27,
       "text": [
        "<matplotlib.text.Text at 0x7ff0656fab70>"
       ]
      },
      {
       "metadata": {},
       "output_type": "display_data",
       "png": "[encoded data removed]",
       "text": [
        "<matplotlib.figure.Figure at 0x7ff065738cc0>"
       ]
      }
     ],
     "prompt_number": 27
    },
    {
     "cell_type": "raw",
     "metadata": {},
     "source": []
    },
    {
     "cell_type": "raw",
     "metadata": {},
     "source": []
    }
   ],
   "metadata": {}
  }
 ]
}