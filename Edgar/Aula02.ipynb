{
 "metadata": {
  "name": "",
  "signature": "sha256:0494e1cc8b2fdbd2a6fb74b03dd7938ddca7c3fac4c36f26b39454b1fa631526"
 },
 "nbformat": 3,
 "nbformat_minor": 0,
 "worksheets": [
  {
   "cells": [
    {
     "cell_type": "code",
     "collapsed": false,
     "input": [
      "import numpy as np\n",
      "import matplotlib.pyplot as plt"
     ],
     "language": "python",
     "metadata": {},
     "outputs": [],
     "prompt_number": 1
    },
    {
     "cell_type": "code",
     "collapsed": false,
     "input": [
      "%ls"
     ],
     "language": "python",
     "metadata": {},
     "outputs": [
      {
       "output_type": "stream",
       "stream": "stdout",
       "text": [
        "Aula01.ipynb  Aula02.ipynb  \u001b[0m\u001b[01;35mFigura_seno.png\u001b[0m  densidade.txt\r\n"
       ]
      }
     ],
     "prompt_number": 2
    },
    {
     "cell_type": "code",
     "collapsed": false,
     "input": [
      "#%cat densidade.txt\n",
      "r,p,d = np.loadtxt(\"densidade.txt\",unpack=True,skiprows=2)"
     ],
     "language": "python",
     "metadata": {},
     "outputs": [],
     "prompt_number": 6
    },
    {
     "cell_type": "code",
     "collapsed": false,
     "input": [
      "print(r,p,d)"
     ],
     "language": "python",
     "metadata": {},
     "outputs": [
      {
       "output_type": "stream",
       "stream": "stdout",
       "text": [
        "[ 3480.   3500.   3600.   3700.   3800.   3900.   4000.   4100.   4200.\n",
        "  4300.   4400.   4500.   4600.   4700.   4800.   4900.   5000.   5100.\n",
        "  5200.   5300.   5400.   5500.   5600.   5701.   5701.   5800.   5900.\n",
        "  5971.   5971.   6000.   6100.   6151.   6151.   6200.   6300.   6346.6\n",
        "  6346.6  6356.   6356.   6368.   6368.   6371. ] [ 2891.   2871.   2771.   2671.   2571.   2471.   2371.   2271.   2171.\n",
        "  2071.   1971.   1871.   1771.   1671.   1571.   1471.   1371.   1271.\n",
        "  1171.   1071.    971.    871.    771.    670.    670.    571.    471.\n",
        "   400.    400.    371.    271.    220.    220.    171.     71.     24.4\n",
        "    24.4    15.     15.      3.      3.      0. ] [ 5566.5  5556.4  5506.4  5456.6  5406.8  5357.1  5307.3  5257.3  5207.2\n",
        "  5156.7  5105.9  5054.7  5003.   4950.8  4897.9  4844.3  4789.9  4734.6\n",
        "  4678.5  4621.3  4563.1  4503.8  4443.2  4380.7  3992.1  3939.3  3813.2\n",
        "  3723.7  3543.3  3525.9  3466.2  3435.8  3359.5  3364.8  3375.7  3380.7\n",
        "  2900.   2900.   2600.   2600.   1020.   1020. ]\n"
       ]
      }
     ],
     "prompt_number": 7
    },
    {
     "cell_type": "code",
     "collapsed": false,
     "input": [
      "plt.plot(d,p)\n",
      "plt.xlabel(\"densidade (kg/m$^3$)\")\n",
      "plt.ylabel(\"profundidade (km)\")\n",
      "plt.ylim(3000,-50)"
     ],
     "language": "python",
     "metadata": {},
     "outputs": [
      {
       "metadata": {},
       "output_type": "pyout",
       "prompt_number": 12,
       "text": [
        "(3000, -50)"
       ]
      },
      {
       "metadata": {},
       "output_type": "display_data",
       "png": "[encoded data removed]",
       "text": [
        "<matplotlib.figure.Figure at 0x7f81f43d6f98>"
       ]
      }
     ],
     "prompt_number": 12
    },
    {
     "cell_type": "code",
     "collapsed": false,
     "input": [
      "rho = 4000.0 #kg/m3\n",
      "g = 10.0 #m/s2\n",
      "alpha = 3.0E-5 #1/K\n",
      "DeltaT = 2000.0 #K\n",
      "b = 700000.0 #m\n",
      "visc = 1.0E21 #Pa.s\n",
      "kappa = 1.0E-6 #m2/s\n",
      "H = 9.0E-12 #W/kg\n",
      "k = 4.0 #W/m/K\n",
      "\n",
      "Ra1 = (rho*g*alpha*DeltaT*b**3)/(visc*kappa)\n",
      "Ra2 = (alpha*rho**2*g*H*b**5)/(kappa*visc*k)\n",
      "print(Ra1,Ra2)"
     ],
     "language": "python",
     "metadata": {},
     "outputs": [
      {
       "output_type": "stream",
       "stream": "stdout",
       "text": [
        "823200.0 1815156.0000000002\n"
       ]
      }
     ],
     "prompt_number": 17
    },
    {
     "cell_type": "code",
     "collapsed": false,
     "input": [],
     "language": "python",
     "metadata": {},
     "outputs": []
    }
   ],
   "metadata": {}
  }
 ]
}